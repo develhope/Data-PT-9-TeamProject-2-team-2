{
 "cells": [
  {
   "cell_type": "markdown",
   "id": "d9582f7e",
   "metadata": {
    "vscode": {
     "languageId": "plaintext"
    }
   },
   "source": [
    "# INIZIO PROGETTO"
   ]
  },
  {
   "cell_type": "markdown",
   "id": "9a584c5b",
   "metadata": {},
   "source": [
    "# Download dataset from https://www.kaggle.com/datasets/missionjee/car-sales-report"
   ]
  },
  {
   "cell_type": "markdown",
   "id": "29dcb22b",
   "metadata": {},
   "source": [
    "## Import Libraries "
   ]
  },
  {
   "cell_type": "code",
   "execution_count": null,
   "id": "c484da9e",
   "metadata": {},
   "outputs": [],
   "source": [
    "import os\n",
    "import pandas as pd\n",
    "import numpy as np\n",
    "import matplotlib.pyplot as plt\n",
    "import seaborn as sns"
   ]
  },
  {
   "cell_type": "markdown",
   "id": "ec49ebd3",
   "metadata": {},
   "source": [
    "## Preliminary dataset visualization"
   ]
  },
  {
   "cell_type": "markdown",
   "id": "d72fd717",
   "metadata": {},
   "source": []
  },
  {
   "cell_type": "markdown",
   "id": "b2a86780",
   "metadata": {},
   "source": [
    "#Visualizzazione delle informazioni del dataset e ricerca di possibili valori nulli."
   ]
  },
  {
   "cell_type": "code",
   "execution_count": null,
   "id": "2b69c039",
   "metadata": {},
   "outputs": [],
   "source": [
    "df_cars = pd.read_csv(r\"..\\data\\cars.csv\")\n",
    "print(df_cars.head())\n",
    "print(df_cars.tail())\n",
    "print(df_cars.info())\n",
    "print(df_cars.columns)\n",
    "print(df_cars.isnull().sum())"
   ]
  },
  {
   "cell_type": "markdown",
   "id": "326ec399",
   "metadata": {},
   "source": [
    "## Start Data cleaning"
   ]
  },
  {
   "cell_type": "markdown",
   "id": "dfe8f78d",
   "metadata": {},
   "source": [
    "#Eliminazione delle colonne che non risultano pertinenti, sostituzione dei valori nulli e rimozione dei valori outlier trovati durante il processo di EDA."
   ]
  },
  {
   "cell_type": "code",
   "execution_count": null,
   "id": "b10be0b6",
   "metadata": {},
   "outputs": [],
   "source": [
    "df_clean = df_cars.drop(columns=['Phone', 'Car_id', 'Dealer_No ', 'Customer Name', 'Dealer_Name'])\n",
    "df_clean = df_clean.fillna('John Doe')\n",
    "df_clean = df_clean.rename(columns={'Price ($)': 'Price',})\n",
    "df_clean = df_clean.drop(df_clean[df_clean['Price'] < 9000].index)\n",
    "output_folder = r'..\\data\\processed'\n",
    "file_path = os.path.join(output_folder, \"database_cleaned_2.csv\")\n",
    "df_clean.to_csv(file_path, index=False)"
   ]
  },
  {
   "cell_type": "markdown",
   "id": "8d6da99f",
   "metadata": {},
   "source": [
    "#Dopo aver ripulito il dataset, il nuovo datset viene salvato nella cartella data."
   ]
  }
 ],
 "metadata": {
  "kernelspec": {
   "display_name": ".venv",
   "language": "python",
   "name": "python3"
  },
  "language_info": {
   "codemirror_mode": {
    "name": "ipython",
    "version": 3
   },
   "file_extension": ".py",
   "mimetype": "text/x-python",
   "name": "python",
   "nbconvert_exporter": "python",
   "pygments_lexer": "ipython3",
   "version": "3.13.5"
  }
 },
 "nbformat": 4,
 "nbformat_minor": 5
}
