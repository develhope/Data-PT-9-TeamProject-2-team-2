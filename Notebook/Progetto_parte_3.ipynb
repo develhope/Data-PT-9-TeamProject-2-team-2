{
 "cells": [
  {
   "cell_type": "markdown",
   "id": "cf1b1e62",
   "metadata": {},
   "source": [
    "# Inzio della ricerca sul \" business case\""
   ]
  },
  {
   "cell_type": "markdown",
   "id": "a25797bc",
   "metadata": {},
   "source": [
    "#La \"business case\" si incentra sulla correlazione tra il sesso dei clienti e il \"Body Type\" delle auto"
   ]
  },
  {
   "cell_type": "markdown",
   "id": "edd8e425",
   "metadata": {},
   "source": [
    "Import delle liberie e del dataset."
   ]
  },
  {
   "cell_type": "code",
   "execution_count": 9,
   "id": "18a8f482",
   "metadata": {},
   "outputs": [],
   "source": [
    "import os\n",
    "import pandas as pd\n",
    "import numpy as np\n",
    "import matplotlib.pyplot as plt\n",
    "import seaborn as sns\n",
    "df_clean = pd.read_csv(r\"..\\data\\database_cleaned_2.csv\")"
   ]
  },
  {
   "cell_type": "markdown",
   "id": "be575590",
   "metadata": {},
   "source": [
    "Inizio delle query per la ricerca"
   ]
  },
  {
   "cell_type": "markdown",
   "id": "5411ce6d",
   "metadata": {},
   "source": [
    "#Inizio della ricerca che correla tra loro il 'Gender' dei clienti e la scelta del 'Body Type' delle auto da loro acquistate"
   ]
  },
  {
   "cell_type": "code",
   "execution_count": 43,
   "id": "f34d8cde",
   "metadata": {},
   "outputs": [
    {
     "name": "stdout",
     "output_type": "stream",
     "text": [
      "\n",
      "Conteggio Totale per Genere\n",
      "Gender\n",
      "Male      18794\n",
      "Female     5106\n",
      "Name: count, dtype: int64\n",
      "\n",
      "Conteggio delle Carrozzerie per Genere\n",
      "Gender  Body Style\n",
      "Female  SUV           1334\n",
      "        Hatchback     1297\n",
      "        Sedan          945\n",
      "        Passenger      883\n",
      "        Hardtop        647\n",
      "Male    SUV           5036\n",
      "        Hatchback     4829\n",
      "        Sedan         3543\n",
      "        Passenger     3062\n",
      "        Hardtop       2324\n",
      "Name: count, dtype: int64\n",
      "\n",
      "Conteggio Percentuale delle Carrozzerie per Genere\n",
      "Gender  Gender  Body Style\n",
      "Female  Female  SUV           26.13%\n",
      "                Hatchback     25.40%\n",
      "                Sedan         18.51%\n",
      "                Passenger     17.29%\n",
      "                Hardtop       12.67%\n",
      "Male    Male    SUV           26.80%\n",
      "                Hatchback     25.69%\n",
      "                Sedan         18.85%\n",
      "                Passenger     16.29%\n",
      "                Hardtop       12.37%\n",
      "Name: count, dtype: object\n"
     ]
    }
   ],
   "source": [
    "# Conteggio delle unità per Genere\n",
    "print(\"\\nConteggio Totale per Genere\")\n",
    "print(df_clean['Gender'].value_counts())\n",
    "\n",
    "# Conteggio delle Carrozzerie per Genere\n",
    "print(\"\\nConteggio delle Carrozzerie per Genere\")\n",
    "df_trend = df_clean.groupby('Gender')['Body Style'].value_counts()\n",
    "print(df_trend)\n",
    "\n",
    "# Conteggio percentuale delle Carrozzerie per Genere\n",
    "print(\"\\nConteggio Percentuale delle Carrozzerie per Genere\")\n",
    "df_trend_percentage = df_trend.groupby(level=0).apply(lambda x: 100 * x / float(x.sum()))\n",
    "df_trend_percentage_formatted = df_trend_percentage.map('{:.2f}%'.format)\n",
    "print(df_trend_percentage_formatted)"
   ]
  },
  {
   "cell_type": "markdown",
   "id": "406349cd",
   "metadata": {},
   "source": [
    "#Il genere dell'acquirente NON sembrerebbe influenzare la scelta del body style."
   ]
  },
  {
   "cell_type": "markdown",
   "id": "31ec9d59",
   "metadata": {},
   "source": [
    "#Dopo aver visualizzartyo le preferenze per genere si può proseguire con la spesa efftuata da essi e in quale percentuale al loro reddito annuo"
   ]
  },
  {
   "cell_type": "code",
   "execution_count": 37,
   "id": "8551fd3c",
   "metadata": {},
   "outputs": [
    {
     "name": "stdout",
     "output_type": "stream",
     "text": [
      "\n",
      " Spesa Aggregata e Percentuale di Spesa per Genere e Carrozzeria\n",
      "\n",
      " Spesa per Carrozzeria: GENERE FEMMINILE (Female) \n",
      "  Body Style     Total_Spend Average_Spend Percentage_of_Gender_Spend\n",
      "0    Hardtop  $18,659,262.00    $28,839.66                     12.92%\n",
      "1  Hatchback  $35,818,440.00    $27,616.38                     24.80%\n",
      "2  Passenger  $26,751,309.00    $30,295.93                     18.52%\n",
      "3        SUV  $35,704,061.00    $26,764.66                     24.72%\n",
      "4      Sedan  $27,501,799.00    $29,102.43                     19.04%\n",
      "\n",
      " Spesa per Carrozzeria: GENERE MASCHILE \n",
      "  Body Style      Total_Spend Average_Spend Percentage_of_Gender_Spend\n",
      "5    Hardtop   $67,948,646.00    $29,237.80                     12.89%\n",
      "6  Hatchback  $130,410,134.00    $27,005.62                     24.74%\n",
      "7  Passenger   $87,425,006.00    $28,551.60                     16.59%\n",
      "8        SUV  $134,903,938.00    $26,787.91                     25.59%\n",
      "9      Sedan  $106,387,820.00    $30,027.61                     20.18%\n",
      "\n",
      " Reddito Annuo Medio per Genere \n",
      "   Gender Average_Annual_Income\n",
      "0  Female           $756,133.31\n",
      "1    Male           $851,142.69\n"
     ]
    }
   ],
   "source": [
    "# 4. Spesa Totale, Media e Percentuale per Genere e Carrozzeria\n",
    "print(\"\\n Spesa Aggregata e Percentuale di Spesa per Genere e Carrozzeria\")\n",
    "df_spesa = df_clean.groupby(['Gender', 'Body Style']).agg( Total_Spend=('Price', 'sum'),Average_Spend=('Price', 'mean')).reset_index()\n",
    "df_total_gender_spend = df_clean.groupby('Gender')['Price'].sum().reset_index()\n",
    "df_total_gender_spend.rename(columns={'Price': 'Total_Gender_Spend'}, inplace=True)\n",
    "\n",
    "# Unione dati di spesa aggregata con la spesa totale per genere\n",
    "df_spesa_merged = pd.merge(df_spesa, df_total_gender_spend, on='Gender')\n",
    "\n",
    "# Calcolo la percentuale di spesa per Body Style rispetto alla spesa totale del Genere\n",
    "df_spesa_merged['Percentage_of_Gender_Spend'] = ( df_spesa_merged['Total_Spend'] / df_spesa_merged['Total_Gender_Spend'] ) * 100\n",
    "    \n",
    "# Formattazione per la visualizzazione in valuta e percentuale\n",
    "df_spesa_merged['Total_Spend'] = df_spesa_merged['Total_Spend'].map('${:,.2f}'.format)\n",
    "df_spesa_merged['Average_Spend'] = df_spesa_merged['Average_Spend'].map('${:,.2f}'.format)\n",
    "df_spesa_merged['Percentage_of_Gender_Spend'] = df_spesa_merged['Percentage_of_Gender_Spend'].map('{:.2f}%'.format)\n",
    "\n",
    "# Preparazione del DataFrame finale per la stampa\n",
    "df_final_spend = df_spesa_merged[['Gender', 'Body Style', 'Total_Spend', 'Average_Spend', 'Percentage_of_Gender_Spend']]\n",
    "\n",
    "# Stampa dei risultati 'Gender' (Female)\n",
    "print(\"\\n Spesa per Carrozzeria: GENERE FEMMINILE (Female) \")\n",
    "df_female_spend = df_final_spend[df_final_spend['Gender'] == 'Female']\n",
    "print(df_female_spend.drop(columns=['Gender']))\n",
    "\n",
    "# Stampa dei risultati 'Gender' (Male)\n",
    "print(\"\\n Spesa per Carrozzeria: GENERE MASCHILE \")\n",
    "df_male_spend = df_final_spend[df_final_spend['Gender'] == 'Male']\n",
    "print(df_male_spend.drop(columns=['Gender']))\n",
    "\n",
    "# Reddito Annuo Medio per Genere\n",
    "print(\"\\n Reddito Annuo Medio per Genere \")\n",
    "df_avg_income = df_clean.groupby('Gender')['Annual Income'].mean().reset_index()\n",
    "df_avg_income.rename(columns={'Annual Income': 'Average_Annual_Income'}, inplace=True)\n",
    "    \n",
    "#Formattazione per la visualizzazione in valuta\n",
    "df_avg_income['Average_Annual_Income'] = df_avg_income['Average_Annual_Income'].map('${:,.2f}'.format)\n",
    "print(df_avg_income)"
   ]
  },
  {
   "cell_type": "markdown",
   "id": "13b40afb",
   "metadata": {},
   "source": [
    "#I dati forniti indicano che non vi è una sostaziale differenza tra le spese percentuali rispetto agli introiti annuali tra i generi. Evidenziano però un distaccio medio di circa 100.000$ di stipendio medio."
   ]
  }
 ],
 "metadata": {
  "kernelspec": {
   "display_name": ".venv",
   "language": "python",
   "name": "python3"
  },
  "language_info": {
   "codemirror_mode": {
    "name": "ipython",
    "version": 3
   },
   "file_extension": ".py",
   "mimetype": "text/x-python",
   "name": "python",
   "nbconvert_exporter": "python",
   "pygments_lexer": "ipython3",
   "version": "3.13.5"
  }
 },
 "nbformat": 4,
 "nbformat_minor": 5
}
