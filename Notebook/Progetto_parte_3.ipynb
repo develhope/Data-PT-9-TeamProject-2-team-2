{
 "cells": [
  {
   "cell_type": "markdown",
   "id": "cf1b1e62",
   "metadata": {},
   "source": [
    "# Inzio della ricerca sul \" business case\""
   ]
  },
  {
   "cell_type": "markdown",
   "id": "a25797bc",
   "metadata": {},
   "source": [
    "#La \"business case\" si incentra sulla correlazione tra il sesso dei clienti e il \"Body Type\" delle auto"
   ]
  },
  {
   "cell_type": "markdown",
   "id": "edd8e425",
   "metadata": {},
   "source": [
    "Import delle liberie e del dataset."
   ]
  },
  {
   "cell_type": "code",
   "execution_count": null,
   "id": "18a8f482",
   "metadata": {},
   "outputs": [],
   "source": [
    "import os\n",
    "import pandas as pd\n",
    "import numpy as np\n",
    "import matplotlib.pyplot as plt\n",
    "import seaborn as sns\n",
    "df_clean = pd.read_csv(r\"../data/processed/database_cleaned_2.csv\")"
   ]
  },
  {
   "cell_type": "markdown",
   "id": "be575590",
   "metadata": {},
   "source": [
    "Inizio delle query per la ricerca"
   ]
  },
  {
   "cell_type": "markdown",
   "id": "5411ce6d",
   "metadata": {},
   "source": [
    "#Inizio della ricerca che correla tra loro il 'Gender' dei clienti e la scelta del 'Body Type' delle auto da loro acquistate"
   ]
  },
  {
   "cell_type": "code",
   "execution_count": null,
   "id": "f34d8cde",
   "metadata": {},
   "outputs": [],
   "source": [
    "# Conteggio delle unità per Genere\n",
    "print(\"\\nConteggio Totale per Genere\")\n",
    "print(df_clean['Gender'].value_counts())\n",
    "\n",
    "# Conteggio delle Carrozzerie per Genere\n",
    "print(\"\\nConteggio delle Carrozzerie per Genere\")\n",
    "df_trend = df_clean.groupby('Gender')['Body Style'].value_counts()\n",
    "print(df_trend)\n",
    "\n",
    "# Conteggio percentuale delle Carrozzerie per Genere\n",
    "print(\"\\nConteggio Percentuale delle Carrozzerie per Genere\")\n",
    "df_trend_percentage = df_trend.groupby(level=0).apply(lambda x: 100 * x / float(x.sum()))\n",
    "df_trend_percentage_formatted = df_trend_percentage.map('{:.2f}%'.format)\n",
    "print(df_trend_percentage_formatted)"
   ]
  },
  {
   "cell_type": "markdown",
   "id": "406349cd",
   "metadata": {},
   "source": [
    "#Il genere dell'acquirente NON sembrerebbe influenzare la scelta del body style."
   ]
  },
  {
   "cell_type": "markdown",
   "id": "31ec9d59",
   "metadata": {},
   "source": [
    "#Dopo aver visualizzartyo le preferenze per genere si può proseguire con la spesa efftuata da essi e in quale percentuale al loro reddito annuo"
   ]
  },
  {
   "cell_type": "code",
   "execution_count": null,
   "id": "8551fd3c",
   "metadata": {},
   "outputs": [],
   "source": [
    "# 4. Spesa Totale, Media e Percentuale per Genere e Carrozzeria\n",
    "print(\"\\n Spesa Aggregata e Percentuale di Spesa per Genere e Carrozzeria\")\n",
    "df_spesa = df_clean.groupby(['Gender', 'Body Style']).agg( Total_Spend=('Price', 'sum'),Average_Spend=('Price', 'mean')).reset_index()\n",
    "df_total_gender_spend = df_clean.groupby('Gender')['Price'].sum().reset_index()\n",
    "df_total_gender_spend.rename(columns={'Price': 'Total_Gender_Spend'}, inplace=True)\n",
    "\n",
    "# Unione dati di spesa aggregata con la spesa totale per genere\n",
    "df_spesa_merged = pd.merge(df_spesa, df_total_gender_spend, on='Gender')\n",
    "\n",
    "# Calcolo la percentuale di spesa per Body Style rispetto alla spesa totale del Genere\n",
    "df_spesa_merged['Percentage_of_Gender_Spend'] = ( df_spesa_merged['Total_Spend'] / df_spesa_merged['Total_Gender_Spend'] ) * 100\n",
    "    \n",
    "# Formattazione per la visualizzazione in valuta e percentuale\n",
    "df_spesa_merged['Total_Spend'] = df_spesa_merged['Total_Spend'].map('${:,.2f}'.format)\n",
    "df_spesa_merged['Average_Spend'] = df_spesa_merged['Average_Spend'].map('${:,.2f}'.format)\n",
    "df_spesa_merged['Percentage_of_Gender_Spend'] = df_spesa_merged['Percentage_of_Gender_Spend'].map('{:.2f}%'.format)\n",
    "\n",
    "# Preparazione del DataFrame finale per la stampa\n",
    "df_final_spend = df_spesa_merged[['Gender', 'Body Style', 'Total_Spend', 'Average_Spend', 'Percentage_of_Gender_Spend']]\n",
    "\n",
    "# Stampa dei risultati 'Gender' (Female)\n",
    "print(\"\\n Spesa per Carrozzeria: GENERE FEMMINILE (Female) \")\n",
    "df_female_spend = df_final_spend[df_final_spend['Gender'] == 'Female']\n",
    "print(df_female_spend.drop(columns=['Gender']))\n",
    "\n",
    "# Stampa dei risultati 'Gender' (Male)\n",
    "print(\"\\n Spesa per Carrozzeria: GENERE MASCHILE \")\n",
    "df_male_spend = df_final_spend[df_final_spend['Gender'] == 'Male']\n",
    "print(df_male_spend.drop(columns=['Gender']))\n",
    "\n",
    "# Reddito Annuo Medio per Genere\n",
    "print(\"\\n Reddito Annuo Medio per Genere \")\n",
    "df_avg_income = df_clean.groupby('Gender')['Annual Income'].mean().reset_index()\n",
    "df_avg_income.rename(columns={'Annual Income': 'Average_Annual_Income'}, inplace=True)\n",
    "    \n",
    "#Formattazione per la visualizzazione in valuta\n",
    "df_avg_income['Average_Annual_Income'] = df_avg_income['Average_Annual_Income'].map('${:,.2f}'.format)\n",
    "print(df_avg_income)"
   ]
  },
  {
   "cell_type": "markdown",
   "id": "13b40afb",
   "metadata": {},
   "source": [
    "#I dati forniti indicano che non vi è una sostaziale differenza tra le spese percentuali rispetto agli introiti annuali tra i generi. Evidenziano però un distaccio medio di circa 100.000$ di stipendio medio."
   ]
  },
  {
   "cell_type": "markdown",
   "id": "c330fb04",
   "metadata": {},
   "source": [
    "#   Ricerca sulla scelta del colore che ogni genere preferisce"
   ]
  },
  {
   "cell_type": "code",
   "execution_count": null,
   "id": "4c281a1a",
   "metadata": {},
   "outputs": [],
   "source": [
    "# Conteggio e Percentuale della Scelta del Colore per Genere\n",
    "print(\"\\nConteggio e Percentuale della Scelta del Colore per Genere\")\n",
    "    \n",
    "# Calcolo il conteggio dei Colori per ogni Gender\n",
    "df_color_trend = df_clean.groupby('Gender')['Color'].value_counts()\n",
    "print(\"\\nContaggi assoluti (Colore):\")\n",
    "print(df_color_trend)\n",
    "    \n",
    "# Calcolo la percentuale di ogni Colore rispetto al totale di quel Genere\n",
    "df_color_percentage = df_color_trend.groupby(level=0).apply(lambda x: 100 * x / float(x.sum()))\n",
    "    \n",
    "# Formattazione del risultato in percentuale\n",
    "df_color_percentage_formatted = df_color_percentage.map('{:.2f}%'.format)\n",
    "    \n",
    "print(\"\\nPercentuale sul totale del Genere (Colore):\")\n",
    "print(df_color_percentage_formatted)"
   ]
  },
  {
   "cell_type": "markdown",
   "id": "8d3bec95",
   "metadata": {},
   "source": [
    "#Ancora una volta la ricerca sui dati non sembrerebbe inidicare una grossa discrepanza nella scelta dei colori."
   ]
  },
  {
   "cell_type": "markdown",
   "id": "e437893a",
   "metadata": {},
   "source": [
    "#   Ricerca sulla scelta di compagnia"
   ]
  },
  {
   "cell_type": "code",
   "execution_count": null,
   "id": "dd2eae63",
   "metadata": {},
   "outputs": [],
   "source": [
    "# Conteggio e Percentuale della Scelta della Compagnia per Gender\n",
    "print(\"\\nConteggio e Percentuale della Scelta della Compagnia per Gender\")\n",
    "\n",
    "# Calcolo il conteggio delle Compagnie per ogni Gender\n",
    "df_company_trend = df_clean.groupby('Gender')['Company'].value_counts()\n",
    "print(\"\\nContaggi assoluti (Compagnia):\")\n",
    "print(df_company_trend)\n",
    "\n",
    "# Calcolo la percentuale di ogni Compagnia rispetto al totale di quel Gender\n",
    "df_company_percentage = df_company_trend.groupby(level=0).apply(lambda x: 100 * x / float(x.sum()))\n",
    "\n",
    "# Formattazione del risultato in percentuale\n",
    "df_company_percentage_formatted = df_company_percentage.map('{:.2f}%'.format)\n",
    "\n",
    "print(\"\\nPercentuale sul totale del Genere (Compagnia):\")\n",
    "print(df_company_percentage_formatted)"
   ]
  },
  {
   "cell_type": "code",
   "execution_count": null,
   "id": "09ceb659",
   "metadata": {},
   "outputs": [],
   "source": [
    "# Analisi e Differenza Percentuale sulla Colonna 'Company'\n",
    "print(\"\\n6B. Analisi e Differenza Percentuale per Brand (Company)\")\n",
    "\n",
    "# Calcolo il conteggio assoluto della scelta della Compagnia per Genere\n",
    "df_company_counts = df_clean.groupby(['Gender', 'Company']).size().reset_index(name='Count')\n",
    "\n",
    "# Calcolo il totale delle scelte per ogni Genere\n",
    "total_counts_by_gender_df = df_clean.groupby('Gender').size().reset_index(name='Total_Count')\n",
    "    \n",
    "# Unione dei conteggi con i totali di Genere per calcolare la percentuale\n",
    "df_company_analysis = pd.merge(df_company_counts, total_counts_by_gender_df, on='Gender', how='left')\n",
    "    \n",
    "# Calcolo la percentuale\n",
    "df_company_analysis['Percentage'] = (df_company_analysis['Count'] / df_company_analysis['Total_Count']) * 100\n",
    "df_company_analysis.drop(columns=['Total_Count', 'Count'], inplace=True)\n",
    "\n",
    "# Pivot del DataFrame per avere Genere Maschile e Femminile affiancati\n",
    "df_pivot = df_company_analysis.pivot(index='Company', columns='Gender', values='Percentage').fillna(0)\n",
    "    \n",
    "# Calcolo la Differenza Percentuale\n",
    "df_pivot['Difference (Female - Male)'] = df_pivot['Female'] - df_pivot['Male']\n",
    "\n",
    "# 7. Formattazione e Stampa\n",
    "df_pivot_formatted = df_pivot.sort_values(by='Difference (Female - Male)', ascending=False).copy()\n",
    "for col in ['Female', 'Male', 'Difference (Female - Male)']:\n",
    "    df_pivot_formatted[col] = df_pivot_formatted[col].map('{:+.2f}%'.format)\n",
    "        \n",
    "print(df_pivot_formatted)"
   ]
  },
  {
   "cell_type": "markdown",
   "id": "1d611598",
   "metadata": {},
   "source": [
    "#La scelta della compagnia ha un diffusione più ampio, ma non mostra grandi divergenze tra i due generi"
   ]
  },
  {
   "cell_type": "markdown",
   "id": "c27db374",
   "metadata": {},
   "source": [
    "#  Combinazione delle scelte delle colonne per vedere un quadro più completo delle scelte in relazione tra loro"
   ]
  },
  {
   "cell_type": "code",
   "execution_count": null,
   "id": "60b3f097",
   "metadata": {},
   "outputs": [],
   "source": [
    "# Percentuale di Scelta per Combinazione di Fattori (Gender, Company, Color, Body Style)\n",
    "print(\"\\n--- Analisi Combinata: Percentuale di Scelta per Gender, Company, Color e Body Style ---\")\n",
    "combination_columns = ['Gender', 'Company', 'Color', 'Body Style']\n",
    "\n",
    "# Conteggio assoluto di ogni combinazione\n",
    "df_combination_counts = df_clean.groupby(combination_columns).size().reset_index(name='Count')\n",
    "\n",
    "# Calcolo il totale delle scelte per ogni Gender\n",
    "total_counts_by_gender = df_clean.groupby('Gender').size()\n",
    "    \n",
    "#Calcola la percentuale di ogni combinazione rispetto al totale del Generee\n",
    "df_combination_counts['Percentage'] = df_combination_counts.apply(lambda row: (row['Count'] / total_counts_by_gender[row['Gender']]) * 100, axis=1)\n",
    "\n",
    "# Formattazione del risultato in percentuale e pulizia\n",
    "df_combination_counts['Percentage'] = df_combination_counts['Percentage'].map('{:.2f}%'.format)\n",
    "df_combination_counts_sorted = df_combination_counts.sort_values(by='Count', ascending=False)\n",
    "    \n",
    "print(\"\\nRisultati per combinazione Gender / Company / Color / Body Style:\")\n",
    "print(df_combination_counts_sorted)"
   ]
  }
 ],
 "metadata": {
  "kernelspec": {
   "display_name": ".venv",
   "language": "python",
   "name": "python3"
  },
  "language_info": {
   "codemirror_mode": {
    "name": "ipython",
    "version": 3
   },
   "file_extension": ".py",
   "mimetype": "text/x-python",
   "name": "python",
   "nbconvert_exporter": "python",
   "pygments_lexer": "ipython3",
   "version": "3.13.5"
  }
 },
 "nbformat": 4,
 "nbformat_minor": 5
}
