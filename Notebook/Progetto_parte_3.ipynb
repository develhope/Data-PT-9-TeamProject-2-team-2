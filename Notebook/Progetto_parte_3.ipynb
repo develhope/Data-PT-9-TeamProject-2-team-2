{
 "cells": [
  {
   "cell_type": "markdown",
   "id": "cf1b1e62",
   "metadata": {},
   "source": [
    "# Inzio della ricerca sul \" business case\""
   ]
  },
  {
   "cell_type": "markdown",
   "id": "a25797bc",
   "metadata": {},
   "source": [
    "#La \"business case\" si incentra sulla correlazione tra il sesso dei clienti e il \"Body Type\" delle auto"
   ]
  },
  {
   "cell_type": "markdown",
   "id": "edd8e425",
   "metadata": {},
   "source": [
    "Import delle liberie e del dataset."
   ]
  },
  {
   "cell_type": "code",
   "execution_count": 1,
   "id": "18a8f482",
   "metadata": {},
   "outputs": [],
   "source": [
    "import os\n",
    "import pandas as pd\n",
    "import numpy as np\n",
    "import matplotlib.pyplot as plt\n",
    "import seaborn as sns\n",
    "df_clean = pd.read_csv(r\"..\\data\\database_cleaned_2.csv\")"
   ]
  },
  {
   "cell_type": "markdown",
   "id": "be575590",
   "metadata": {},
   "source": [
    "Inizio delle query per la ricerca"
   ]
  },
  {
   "cell_type": "markdown",
   "id": "5411ce6d",
   "metadata": {},
   "source": [
    "#Inizio della ricerca che correla tra loro il 'Gender' dei clienti e la scelta del 'Body Type' delle auto da loro acquistate"
   ]
  },
  {
   "cell_type": "code",
   "execution_count": 2,
   "id": "f34d8cde",
   "metadata": {},
   "outputs": [
    {
     "name": "stdout",
     "output_type": "stream",
     "text": [
      "\n",
      "Conteggio Totale per Genere\n",
      "Gender\n",
      "Male      18794\n",
      "Female     5106\n",
      "Name: count, dtype: int64\n",
      "\n",
      "Conteggio delle Carrozzerie per Genere\n",
      "Gender  Body Style\n",
      "Female  SUV           1334\n",
      "        Hatchback     1297\n",
      "        Sedan          945\n",
      "        Passenger      883\n",
      "        Hardtop        647\n",
      "Male    SUV           5036\n",
      "        Hatchback     4829\n",
      "        Sedan         3543\n",
      "        Passenger     3062\n",
      "        Hardtop       2324\n",
      "Name: count, dtype: int64\n",
      "\n",
      "Conteggio Percentuale delle Carrozzerie per Genere\n",
      "Gender  Gender  Body Style\n",
      "Female  Female  SUV           26.13%\n",
      "                Hatchback     25.40%\n",
      "                Sedan         18.51%\n",
      "                Passenger     17.29%\n",
      "                Hardtop       12.67%\n",
      "Male    Male    SUV           26.80%\n",
      "                Hatchback     25.69%\n",
      "                Sedan         18.85%\n",
      "                Passenger     16.29%\n",
      "                Hardtop       12.37%\n",
      "Name: count, dtype: object\n"
     ]
    }
   ],
   "source": [
    "# Conteggio delle unità per Genere\n",
    "print(\"\\nConteggio Totale per Genere\")\n",
    "print(df_clean['Gender'].value_counts())\n",
    "\n",
    "# Conteggio delle Carrozzerie per Genere\n",
    "print(\"\\nConteggio delle Carrozzerie per Genere\")\n",
    "df_trend = df_clean.groupby('Gender')['Body Style'].value_counts()\n",
    "print(df_trend)\n",
    "\n",
    "# Conteggio percentuale delle Carrozzerie per Genere\n",
    "print(\"\\nConteggio Percentuale delle Carrozzerie per Genere\")\n",
    "df_trend_percentage = df_trend.groupby(level=0).apply(lambda x: 100 * x / float(x.sum()))\n",
    "df_trend_percentage_formatted = df_trend_percentage.map('{:.2f}%'.format)\n",
    "print(df_trend_percentage_formatted)"
   ]
  },
  {
   "cell_type": "markdown",
   "id": "406349cd",
   "metadata": {},
   "source": [
    "#Il genere dell'acquirente NON sembrerebbe influenzare la scelta del body style."
   ]
  },
  {
   "cell_type": "markdown",
   "id": "31ec9d59",
   "metadata": {},
   "source": [
    "#Dopo aver visualizzartyo le preferenze per genere si può proseguire con la spesa efftuata da essi e in quale percentuale al loro reddito annuo"
   ]
  },
  {
   "cell_type": "code",
   "execution_count": 3,
   "id": "8551fd3c",
   "metadata": {},
   "outputs": [
    {
     "name": "stdout",
     "output_type": "stream",
     "text": [
      "\n",
      " Spesa Aggregata e Percentuale di Spesa per Genere e Carrozzeria\n",
      "\n",
      " Spesa per Carrozzeria: GENERE FEMMINILE (Female) \n",
      "  Body Style     Total_Spend Average_Spend Percentage_of_Gender_Spend\n",
      "0    Hardtop  $18,659,262.00    $28,839.66                     12.92%\n",
      "1  Hatchback  $35,818,440.00    $27,616.38                     24.80%\n",
      "2  Passenger  $26,751,309.00    $30,295.93                     18.52%\n",
      "3        SUV  $35,704,061.00    $26,764.66                     24.72%\n",
      "4      Sedan  $27,501,799.00    $29,102.43                     19.04%\n",
      "\n",
      " Spesa per Carrozzeria: GENERE MASCHILE \n",
      "  Body Style      Total_Spend Average_Spend Percentage_of_Gender_Spend\n",
      "5    Hardtop   $67,948,646.00    $29,237.80                     12.89%\n",
      "6  Hatchback  $130,410,134.00    $27,005.62                     24.74%\n",
      "7  Passenger   $87,425,006.00    $28,551.60                     16.59%\n",
      "8        SUV  $134,903,938.00    $26,787.91                     25.59%\n",
      "9      Sedan  $106,387,820.00    $30,027.61                     20.18%\n",
      "\n",
      " Reddito Annuo Medio per Genere \n",
      "   Gender Average_Annual_Income\n",
      "0  Female           $756,133.31\n",
      "1    Male           $851,142.69\n"
     ]
    }
   ],
   "source": [
    "# 4. Spesa Totale, Media e Percentuale per Genere e Carrozzeria\n",
    "print(\"\\n Spesa Aggregata e Percentuale di Spesa per Genere e Carrozzeria\")\n",
    "df_spesa = df_clean.groupby(['Gender', 'Body Style']).agg( Total_Spend=('Price', 'sum'),Average_Spend=('Price', 'mean')).reset_index()\n",
    "df_total_gender_spend = df_clean.groupby('Gender')['Price'].sum().reset_index()\n",
    "df_total_gender_spend.rename(columns={'Price': 'Total_Gender_Spend'}, inplace=True)\n",
    "\n",
    "# Unione dati di spesa aggregata con la spesa totale per genere\n",
    "df_spesa_merged = pd.merge(df_spesa, df_total_gender_spend, on='Gender')\n",
    "\n",
    "# Calcolo la percentuale di spesa per Body Style rispetto alla spesa totale del Genere\n",
    "df_spesa_merged['Percentage_of_Gender_Spend'] = ( df_spesa_merged['Total_Spend'] / df_spesa_merged['Total_Gender_Spend'] ) * 100\n",
    "    \n",
    "# Formattazione per la visualizzazione in valuta e percentuale\n",
    "df_spesa_merged['Total_Spend'] = df_spesa_merged['Total_Spend'].map('${:,.2f}'.format)\n",
    "df_spesa_merged['Average_Spend'] = df_spesa_merged['Average_Spend'].map('${:,.2f}'.format)\n",
    "df_spesa_merged['Percentage_of_Gender_Spend'] = df_spesa_merged['Percentage_of_Gender_Spend'].map('{:.2f}%'.format)\n",
    "\n",
    "# Preparazione del DataFrame finale per la stampa\n",
    "df_final_spend = df_spesa_merged[['Gender', 'Body Style', 'Total_Spend', 'Average_Spend', 'Percentage_of_Gender_Spend']]\n",
    "\n",
    "# Stampa dei risultati 'Gender' (Female)\n",
    "print(\"\\n Spesa per Carrozzeria: GENERE FEMMINILE (Female) \")\n",
    "df_female_spend = df_final_spend[df_final_spend['Gender'] == 'Female']\n",
    "print(df_female_spend.drop(columns=['Gender']))\n",
    "\n",
    "# Stampa dei risultati 'Gender' (Male)\n",
    "print(\"\\n Spesa per Carrozzeria: GENERE MASCHILE \")\n",
    "df_male_spend = df_final_spend[df_final_spend['Gender'] == 'Male']\n",
    "print(df_male_spend.drop(columns=['Gender']))\n",
    "\n",
    "# Reddito Annuo Medio per Genere\n",
    "print(\"\\n Reddito Annuo Medio per Genere \")\n",
    "df_avg_income = df_clean.groupby('Gender')['Annual Income'].mean().reset_index()\n",
    "df_avg_income.rename(columns={'Annual Income': 'Average_Annual_Income'}, inplace=True)\n",
    "    \n",
    "#Formattazione per la visualizzazione in valuta\n",
    "df_avg_income['Average_Annual_Income'] = df_avg_income['Average_Annual_Income'].map('${:,.2f}'.format)\n",
    "print(df_avg_income)"
   ]
  },
  {
   "cell_type": "markdown",
   "id": "13b40afb",
   "metadata": {},
   "source": [
    "#I dati forniti indicano che non vi è una sostaziale differenza tra le spese percentuali rispetto agli introiti annuali tra i generi. Evidenziano però un distaccio medio di circa 100.000$ di stipendio medio."
   ]
  },
  {
   "cell_type": "markdown",
   "id": "c330fb04",
   "metadata": {},
   "source": [
    "#   Ricerca sulla scelta del colore che ogni genere preferisce"
   ]
  },
  {
   "cell_type": "code",
   "execution_count": null,
   "id": "4c281a1a",
   "metadata": {},
   "outputs": [
    {
     "name": "stdout",
     "output_type": "stream",
     "text": [
      "\n",
      "--- Conteggio e Percentuale della Scelta del Colore per Genere ---\n",
      "\n",
      "Contaggi assoluti (Colore):\n",
      "Gender  Color     \n",
      "Female  Pale White    2447\n",
      "        Black         1652\n",
      "        Red           1007\n",
      "Male    Pale White    8808\n",
      "        Black         6201\n",
      "        Red           3785\n",
      "Name: count, dtype: int64\n",
      "\n",
      "Percentuale sul totale del Genere (Colore):\n",
      "Gender  Gender  Color     \n",
      "Female  Female  Pale White    47.92%\n",
      "                Black         32.35%\n",
      "                Red           19.72%\n",
      "Male    Male    Pale White    46.87%\n",
      "                Black         32.99%\n",
      "                Red           20.14%\n",
      "Name: count, dtype: object\n"
     ]
    }
   ],
   "source": [
    "# Conteggio e Percentuale della Scelta del Colore per Genere\n",
    "print(\"\\nConteggio e Percentuale della Scelta del Colore per Genere\")\n",
    "    \n",
    "# Calcolo il conteggio dei Colori per ogni Gender\n",
    "df_color_trend = df_clean.groupby('Gender')['Color'].value_counts()\n",
    "print(\"\\nContaggi assoluti (Colore):\")\n",
    "print(df_color_trend)\n",
    "    \n",
    "# Calcolo la percentuale di ogni Colore rispetto al totale di quel Genere\n",
    "df_color_percentage = df_color_trend.groupby(level=0).apply(lambda x: 100 * x / float(x.sum()))\n",
    "    \n",
    "# Formattazione del risultato in percentuale\n",
    "df_color_percentage_formatted = df_color_percentage.map('{:.2f}%'.format)\n",
    "    \n",
    "print(\"\\nPercentuale sul totale del Genere (Colore):\")\n",
    "print(df_color_percentage_formatted)"
   ]
  },
  {
   "cell_type": "markdown",
   "id": "8d3bec95",
   "metadata": {},
   "source": [
    "#Ancora una volta la ricerca sui dati non sembrerebbe inidicare una grossa discrepanza nella scelta dei colori."
   ]
  },
  {
   "cell_type": "markdown",
   "id": "e437893a",
   "metadata": {},
   "source": [
    "#   Ricerca sulla scelta di compagnia"
   ]
  },
  {
   "cell_type": "code",
   "execution_count": 13,
   "id": "dd2eae63",
   "metadata": {},
   "outputs": [
    {
     "name": "stdout",
     "output_type": "stream",
     "text": [
      "\n",
      "Conteggio e Percentuale della Scelta della Compagnia per Gender\n",
      "\n",
      "Contaggi assoluti (Compagnia):\n",
      "Gender  Company   \n",
      "Female  Chevrolet      388\n",
      "        Ford           365\n",
      "        Dodge          344\n",
      "        Mercedes-B     292\n",
      "        Volkswagen     289\n",
      "        Mitsubishi     269\n",
      "        Chrysler       246\n",
      "        Toyota         222\n",
      "        Oldsmobile     218\n",
      "        Nissan         208\n",
      "        Pontiac        183\n",
      "        Volvo          171\n",
      "        BMW            169\n",
      "        Lexus          168\n",
      "        Acura          167\n",
      "        Honda          160\n",
      "        Mercury        159\n",
      "        Cadillac       153\n",
      "        Saturn         136\n",
      "        Plymouth       135\n",
      "        Lincoln        106\n",
      "        Buick           87\n",
      "        Audi            86\n",
      "        Porsche         84\n",
      "        Subaru          70\n",
      "        Jeep            67\n",
      "        Hyundai         52\n",
      "        Saab            46\n",
      "        Infiniti        35\n",
      "        Jaguar          31\n",
      "Male    Chevrolet     1431\n",
      "        Dodge         1327\n",
      "        Ford          1246\n",
      "        Volkswagen    1044\n",
      "        Mitsubishi    1008\n",
      "        Mercedes-B     991\n",
      "        Oldsmobile     893\n",
      "        Toyota         888\n",
      "        Chrysler       874\n",
      "        Mercury        715\n",
      "        Nissan         678\n",
      "        Lexus          634\n",
      "        BMW            621\n",
      "        Volvo          618\n",
      "        Pontiac        613\n",
      "        Honda          548\n",
      "        Acura          522\n",
      "        Cadillac       499\n",
      "        Plymouth       482\n",
      "        Saturn         450\n",
      "        Lincoln        385\n",
      "        Audi           382\n",
      "        Buick          352\n",
      "        Subaru         335\n",
      "        Jeep           296\n",
      "        Porsche        277\n",
      "        Hyundai        212\n",
      "        Saab           164\n",
      "        Infiniti       160\n",
      "        Jaguar         149\n",
      "Name: count, dtype: int64\n",
      "\n",
      "Percentuale sul totale del Genere (Compagnia):\n",
      "Gender  Gender  Company   \n",
      "Female  Female  Chevrolet     7.60%\n",
      "                Ford          7.15%\n",
      "                Dodge         6.74%\n",
      "                Mercedes-B    5.72%\n",
      "                Volkswagen    5.66%\n",
      "                Mitsubishi    5.27%\n",
      "                Chrysler      4.82%\n",
      "                Toyota        4.35%\n",
      "                Oldsmobile    4.27%\n",
      "                Nissan        4.07%\n",
      "                Pontiac       3.58%\n",
      "                Volvo         3.35%\n",
      "                BMW           3.31%\n",
      "                Lexus         3.29%\n",
      "                Acura         3.27%\n",
      "                Honda         3.13%\n",
      "                Mercury       3.11%\n",
      "                Cadillac      3.00%\n",
      "                Saturn        2.66%\n",
      "                Plymouth      2.64%\n",
      "                Lincoln       2.08%\n",
      "                Buick         1.70%\n",
      "                Audi          1.68%\n",
      "                Porsche       1.65%\n",
      "                Subaru        1.37%\n",
      "                Jeep          1.31%\n",
      "                Hyundai       1.02%\n",
      "                Saab          0.90%\n",
      "                Infiniti      0.69%\n",
      "                Jaguar        0.61%\n",
      "Male    Male    Chevrolet     7.61%\n",
      "                Dodge         7.06%\n",
      "                Ford          6.63%\n",
      "                Volkswagen    5.55%\n",
      "                Mitsubishi    5.36%\n",
      "                Mercedes-B    5.27%\n",
      "                Oldsmobile    4.75%\n",
      "                Toyota        4.72%\n",
      "                Chrysler      4.65%\n",
      "                Mercury       3.80%\n",
      "                Nissan        3.61%\n",
      "                Lexus         3.37%\n",
      "                BMW           3.30%\n",
      "                Volvo         3.29%\n",
      "                Pontiac       3.26%\n",
      "                Honda         2.92%\n",
      "                Acura         2.78%\n",
      "                Cadillac      2.66%\n",
      "                Plymouth      2.56%\n",
      "                Saturn        2.39%\n",
      "                Lincoln       2.05%\n",
      "                Audi          2.03%\n",
      "                Buick         1.87%\n",
      "                Subaru        1.78%\n",
      "                Jeep          1.57%\n",
      "                Porsche       1.47%\n",
      "                Hyundai       1.13%\n",
      "                Saab          0.87%\n",
      "                Infiniti      0.85%\n",
      "                Jaguar        0.79%\n",
      "Name: count, dtype: object\n"
     ]
    }
   ],
   "source": [
    "# Conteggio e Percentuale della Scelta della Compagnia per Gender\n",
    "print(\"\\nConteggio e Percentuale della Scelta della Compagnia per Gender\")\n",
    "\n",
    "# Calcolo il conteggio delle Compagnie per ogni Gender\n",
    "df_company_trend = df_clean.groupby('Gender')['Company'].value_counts()\n",
    "print(\"\\nContaggi assoluti (Compagnia):\")\n",
    "print(df_company_trend)\n",
    "\n",
    "# Calcolo la percentuale di ogni Compagnia rispetto al totale di quel Gender\n",
    "df_company_percentage = df_company_trend.groupby(level=0).apply(lambda x: 100 * x / float(x.sum()))\n",
    "\n",
    "# Formattazione del risultato in percentuale\n",
    "df_company_percentage_formatted = df_company_percentage.map('{:.2f}%'.format)\n",
    "\n",
    "print(\"\\nPercentuale sul totale del Genere (Compagnia):\")\n",
    "print(df_company_percentage_formatted)"
   ]
  },
  {
   "cell_type": "code",
   "execution_count": null,
   "id": "09ceb659",
   "metadata": {},
   "outputs": [
    {
     "name": "stdout",
     "output_type": "stream",
     "text": [
      "\n",
      "--- 6B. Analisi e Differenza Percentuale per Brand (Company) ---\n",
      "Gender      Female    Male Difference (Female - Male)\n",
      "Company                                              \n",
      "Ford        +7.15%  +6.63%                     +0.52%\n",
      "Acura       +3.27%  +2.78%                     +0.49%\n",
      "Nissan      +4.07%  +3.61%                     +0.47%\n",
      "Mercedes-B  +5.72%  +5.27%                     +0.45%\n",
      "Cadillac    +3.00%  +2.66%                     +0.34%\n",
      "Pontiac     +3.58%  +3.26%                     +0.32%\n",
      "Saturn      +2.66%  +2.39%                     +0.27%\n",
      "Honda       +3.13%  +2.92%                     +0.22%\n",
      "Porsche     +1.65%  +1.47%                     +0.17%\n",
      "Chrysler    +4.82%  +4.65%                     +0.17%\n",
      "Volkswagen  +5.66%  +5.55%                     +0.11%\n",
      "Plymouth    +2.64%  +2.56%                     +0.08%\n",
      "Volvo       +3.35%  +3.29%                     +0.06%\n",
      "Saab        +0.90%  +0.87%                     +0.03%\n",
      "Lincoln     +2.08%  +2.05%                     +0.03%\n",
      "BMW         +3.31%  +3.30%                     +0.01%\n",
      "Chevrolet   +7.60%  +7.61%                     -0.02%\n",
      "Lexus       +3.29%  +3.37%                     -0.08%\n",
      "Mitsubishi  +5.27%  +5.36%                     -0.10%\n",
      "Hyundai     +1.02%  +1.13%                     -0.11%\n",
      "Infiniti    +0.69%  +0.85%                     -0.17%\n",
      "Buick       +1.70%  +1.87%                     -0.17%\n",
      "Jaguar      +0.61%  +0.79%                     -0.19%\n",
      "Jeep        +1.31%  +1.57%                     -0.26%\n",
      "Dodge       +6.74%  +7.06%                     -0.32%\n",
      "Audi        +1.68%  +2.03%                     -0.35%\n",
      "Toyota      +4.35%  +4.72%                     -0.38%\n",
      "Subaru      +1.37%  +1.78%                     -0.41%\n",
      "Oldsmobile  +4.27%  +4.75%                     -0.48%\n",
      "Mercury     +3.11%  +3.80%                     -0.69%\n"
     ]
    }
   ],
   "source": [
    "# Analisi e Differenza Percentuale sulla Colonna 'Company'\n",
    "print(\"\\n6B. Analisi e Differenza Percentuale per Brand (Company)\")\n",
    "\n",
    "# Calcolo il conteggio assoluto della scelta della Compagnia per Genere\n",
    "df_company_counts = df_clean.groupby(['Gender', 'Company']).size().reset_index(name='Count')\n",
    "\n",
    "# Calcolo il totale delle scelte per ogni Genere\n",
    "total_counts_by_gender_df = df_clean.groupby('Gender').size().reset_index(name='Total_Count')\n",
    "    \n",
    "# Unione dei conteggi con i totali di Genere per calcolare la percentuale\n",
    "df_company_analysis = pd.merge(df_company_counts, total_counts_by_gender_df, on='Gender', how='left')\n",
    "    \n",
    "# Calcolo la percentuale\n",
    "df_company_analysis['Percentage'] = (df_company_analysis['Count'] / df_company_analysis['Total_Count']) * 100\n",
    "df_company_analysis.drop(columns=['Total_Count', 'Count'], inplace=True)\n",
    "\n",
    "# Pivot del DataFrame per avere Genere Maschile e Femminile affiancati\n",
    "df_pivot = df_company_analysis.pivot(index='Company', columns='Gender', values='Percentage').fillna(0)\n",
    "    \n",
    "# Calcolo la Differenza Percentuale\n",
    "df_pivot['Difference (Female - Male)'] = df_pivot['Female'] - df_pivot['Male']\n",
    "\n",
    "# 7. Formattazione e Stampa\n",
    "df_pivot_formatted = df_pivot.sort_values(by='Difference (Female - Male)', ascending=False).copy()\n",
    "for col in ['Female', 'Male', 'Difference (Female - Male)']:\n",
    "    df_pivot_formatted[col] = df_pivot_formatted[col].map('{:+.2f}%'.format)\n",
    "        \n",
    "print(df_pivot_formatted)"
   ]
  },
  {
   "cell_type": "markdown",
   "id": "1d611598",
   "metadata": {},
   "source": [
    "#La scelta della compagnia ha un diffusione più ampio, ma non mostra grandi divergenze tra i due generi"
   ]
  },
  {
   "cell_type": "markdown",
   "id": "c27db374",
   "metadata": {},
   "source": [
    "#  Combinazione delle scelte delle colonne per vedere un quadro più completo delle scelte in relazione tra loro"
   ]
  },
  {
   "cell_type": "code",
   "execution_count": null,
   "id": "60b3f097",
   "metadata": {},
   "outputs": [
    {
     "name": "stdout",
     "output_type": "stream",
     "text": [
      "\n",
      "--- Analisi Combinata: Percentuale di Scelta per Gender, Company, Color e Body Style ---\n",
      "\n",
      "Risultati per combinazione Gender / Company / Color / Body Style:\n",
      "     Gender     Company       Color Body Style  Count Percentage\n",
      "382    Male   Chevrolet  Pale White        SUV    321      1.71%\n",
      "549    Male  Oldsmobile  Pale White      Sedan    270      1.44%\n",
      "421    Male        Ford       Black        SUV    243      1.29%\n",
      "411    Male       Dodge  Pale White        SUV    214      1.14%\n",
      "623    Male      Toyota  Pale White        SUV    194      1.03%\n",
      "..      ...         ...         ...        ...    ...        ...\n",
      "325  Female       Volvo         Red        SUV      1      0.02%\n",
      "655    Male       Volvo         Red        SUV      1      0.01%\n",
      "43   Female    Cadillac         Red  Hatchback      1      0.02%\n",
      "12   Female        Audi  Pale White  Hatchback      1      0.02%\n",
      "13   Female        Audi  Pale White  Passenger      1      0.02%\n",
      "\n",
      "[657 rows x 6 columns]\n"
     ]
    }
   ],
   "source": [
    "# Percentuale di Scelta per Combinazione di Fattori (Gender, Company, Color, Body Style)\n",
    "print(\"\\n--- Analisi Combinata: Percentuale di Scelta per Gender, Company, Color e Body Style ---\")\n",
    "combination_columns = ['Gender', 'Company', 'Color', 'Body Style']\n",
    "\n",
    "# Conteggio assoluto di ogni combinazione\n",
    "df_combination_counts = df_clean.groupby(combination_columns).size().reset_index(name='Count')\n",
    "\n",
    "# Calcolo il totale delle scelte per ogni Gender\n",
    "total_counts_by_gender = df_clean.groupby('Gender').size()\n",
    "    \n",
    "#Calcola la percentuale di ogni combinazione rispetto al totale del Generee\n",
    "df_combination_counts['Percentage'] = df_combination_counts.apply(lambda row: (row['Count'] / total_counts_by_gender[row['Gender']]) * 100, axis=1)\n",
    "\n",
    "# Formattazione del risultato in percentuale e pulizia\n",
    "df_combination_counts['Percentage'] = df_combination_counts['Percentage'].map('{:.2f}%'.format)\n",
    "df_combination_counts_sorted = df_combination_counts.sort_values(by='Count', ascending=False)\n",
    "    \n",
    "print(\"\\nRisultati per combinazione Gender / Company / Color / Body Style:\")\n",
    "print(df_combination_counts_sorted)"
   ]
  }
 ],
 "metadata": {
  "kernelspec": {
   "display_name": ".venv",
   "language": "python",
   "name": "python3"
  },
  "language_info": {
   "codemirror_mode": {
    "name": "ipython",
    "version": 3
   },
   "file_extension": ".py",
   "mimetype": "text/x-python",
   "name": "python",
   "nbconvert_exporter": "python",
   "pygments_lexer": "ipython3",
   "version": "3.13.5"
  }
 },
 "nbformat": 4,
 "nbformat_minor": 5
}
