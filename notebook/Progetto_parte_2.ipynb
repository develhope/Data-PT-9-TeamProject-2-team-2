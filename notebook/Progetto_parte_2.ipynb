{
 "cells": [
  {
   "cell_type": "markdown",
   "id": "b02fc70f",
   "metadata": {},
   "source": [
    "Ricerca e controllo per possibili outlier"
   ]
  },
  {
   "cell_type": "markdown",
   "id": "631e4634",
   "metadata": {},
   "source": [
    "Import delle librerie necessarie\n"
   ]
  },
  {
   "cell_type": "code",
   "execution_count": null,
   "id": "375abb41",
   "metadata": {},
   "outputs": [],
   "source": [
    "import os\n",
    "import pandas as pd\n",
    "import numpy as np\n",
    "import matplotlib.pyplot as plt\n",
    "import seaborn as sns"
   ]
  },
  {
   "cell_type": "markdown",
   "id": "000d43d0",
   "metadata": {},
   "source": [
    "Inizio della parte di ricerca di possibili outlier.\n"
   ]
  },
  {
   "cell_type": "markdown",
   "id": "3aa1690f",
   "metadata": {},
   "source": [
    "#Inizio delle ricerca sui prezzi delle auto\n"
   ]
  },
  {
   "cell_type": "code",
   "execution_count": null,
   "id": "2fa273da",
   "metadata": {},
   "outputs": [],
   "source": [
    "df_clean = pd.read_csv(r\"..\\data\\processed\\database_cleaned_2.csv\")\n",
    "df_clean.max()['Price']\n",
    "df_clean.min()['Price']\n",
    "df_clean['Price'].mean()\n",
    "df_clean['Price'].median()\n",
    "print(\"Media:\", df_clean['Price'].mean())\n",
    "print(\"Mediana:\", df_clean['Price'].median())\n",
    "print(\"Massimo:\",df_clean.max()['Price'])\n",
    "print(\"Minimo:\",df_clean.min()['Price'])\n",
    "top_10_prezzi = df_clean.nlargest(10, 'Price')\n",
    "print(top_10_prezzi[['Price']])\n",
    "bottom_10_prezzi = df_clean.nsmallest(10, 'Price')\n",
    "print(bottom_10_prezzi[['Price']])\n"
   ]
  },
  {
   "cell_type": "markdown",
   "id": "8e1ae7c6",
   "metadata": {},
   "source": [
    "#Dai risultati abbiamo 6 valori che risutano anomali. Si tratta dei 6 prezzi più bassi.\n"
   ]
  },
  {
   "cell_type": "markdown",
   "id": "40e5d62c",
   "metadata": {},
   "source": [
    "#Ricerca più approfondita riguradante gli outlier, con prezzi di controllo, per vedere quanto impattano sul dataset.\n"
   ]
  },
  {
   "cell_type": "code",
   "execution_count": null,
   "id": "11f7fd4c",
   "metadata": {},
   "outputs": [],
   "source": [
    "outlier_alti = df_clean[df_clean['Price'] > 80000]\n",
    "outlier_bassi = df_clean[df_clean['Price'] < 9000]\n",
    "num_outlier_alti = len(outlier_alti)\n",
    "num_outlier_bassi = len(outlier_bassi)\n",
    "print(f\"\\nNumero di outlier con prezzo > 80000: {num_outlier_alti}\")\n",
    "print(f\"Numero di outlier con prezzo < 9000: {num_outlier_bassi}\")\n",
    "df_no_outliers = df_clean[(df_clean['Price'] <= 80000) & (df_clean['Price'] >= 9000)]\n",
    "print(f\"\\nDimensione del dataset originale: {len(df_clean)}\")\n",
    "print(f\"Dimensione del dataset senza outlier: {len(df_no_outliers)}\")"
   ]
  },
  {
   "cell_type": "markdown",
   "id": "5bc7b0aa",
   "metadata": {},
   "source": [
    "#Il prezzo di controllo della fascia alta mostra un gruppo compatto e in sincronia con il resto del dataset.\n",
    "\n",
    "#Il prezzo di controlo della fascia bassa invece mostra nuovamente i 6 prezzi più bassi che sono discostati dal resto del dataset."
   ]
  },
  {
   "cell_type": "markdown",
   "id": "23a8663f",
   "metadata": {},
   "source": [
    "#Inzio della ricerca su \"Annual Income\""
   ]
  },
  {
   "cell_type": "code",
   "execution_count": null,
   "id": "bc86bb92",
   "metadata": {},
   "outputs": [],
   "source": [
    "df_clean.max()['Annual Income']\n",
    "df_clean.min()['Annual Income']\n",
    "df_clean['Annual Income'].mean()\n",
    "df_clean['Annual Income'].median()\n",
    "print(\"Media:\", df_clean['Annual Income'].mean())\n",
    "print(\"Mediana:\", df_clean['Annual Income'].median())\n",
    "print(\"Massimo:\",df_clean.max()['Annual Income'])\n",
    "print(\"Minimo:\",df_clean.min()['Annual Income'])\n",
    "top_10_income = df_clean.nlargest(10, 'Annual Income')\n",
    "print(top_10_income[['Annual Income']])\n",
    "bottom_10_income = df_clean.nsmallest(10, 'Annual Income')\n",
    "print(bottom_10_income[['Annual Income']])\n",
    "\n"
   ]
  },
  {
   "cell_type": "markdown",
   "id": "1ecb2f0a",
   "metadata": {},
   "source": [
    "#La ricerca preliminare evidenzia valori relativamente alti. Ci sono dei valori che si potrrebbero considerare anomali."
   ]
  },
  {
   "cell_type": "markdown",
   "id": "b1212b0a",
   "metadata": {},
   "source": [
    "#Ricerca più approfondita riguradante gli outlier, con gruppi di controllo, per vedere quanto impattano sul dataset."
   ]
  },
  {
   "cell_type": "code",
   "execution_count": null,
   "id": "5bd1d245",
   "metadata": {},
   "outputs": [],
   "source": [
    "outlier_salari_alti = df_clean[df_clean['Annual Income'] > 7000000]\n",
    "outlier_salari_bassi = df_clean[df_clean['Annual Income'] < 13500]\n",
    "num_outlier_salari_alti = len(outlier_salari_alti)\n",
    "num_outlier_salari_bassi = len(outlier_salari_bassi)\n",
    "print(f\"\\nNumero di outlier con salari > 7000000: {num_outlier_salari_alti}\")\n",
    "print(f\"Numero di outlier con salari < 13500: {num_outlier_salari_bassi}\")\n",
    "df_no_outliers = df_clean[(df_clean['Annual Income'] <= 7000000) & (df_clean['Annual Income'] >= 13500)]\n",
    "print(f\"\\nDimensione del dataset originale: {len(df_clean)}\")\n",
    "print(f\"Dimensione del dataset senza outlier: {len(df_no_outliers)}\")"
   ]
  },
  {
   "cell_type": "markdown",
   "id": "bc93319e",
   "metadata": {},
   "source": [
    "#Il prezzo di controllo della fascia bassa mostra un gruppo compatto e in sincronia con il resto del dataset.\n",
    "\n",
    "#Il prezzo di controlo della fascia alta invece mostra mostra 3 valori più alti rispetto al resto dei data, ma non abbastanza da risultare troppo anomali."
   ]
  },
  {
   "cell_type": "markdown",
   "id": "986da2b1",
   "metadata": {},
   "source": [
    "#Ricerca con utilizzo di \"group by\" per vedere come i dati sono correlati.Prima per \"Annual Income\" e poi per \"Price\"."
   ]
  },
  {
   "cell_type": "code",
   "execution_count": null,
   "id": "72ed88d0",
   "metadata": {},
   "outputs": [],
   "source": [
    "top_10_redditi = df_clean.sort_values(by='Annual Income', ascending=False).head(10)\n",
    "print(\"\\nLe 10 auto con il reddito annuale più alto:\")\n",
    "print(top_10_redditi[['Company', 'Model', 'Annual Income', 'Price']])\n",
    "bottom_10_redditi = df_clean.sort_values(by='Annual Income', ascending=False).tail(10)\n",
    "print(\"\\nLe 10 auto con il reddito annuale più basso:\")\n",
    "print(bottom_10_redditi[['Company', 'Model', 'Annual Income', 'Price']])\n"
   ]
  },
  {
   "cell_type": "code",
   "execution_count": null,
   "id": "3dbc6807",
   "metadata": {},
   "outputs": [],
   "source": [
    "top_10_auto = df_clean.sort_values(by='Price', ascending=False).head(10)\n",
    "print(\"\\nLe 10 auto con il prezzo più alto:\")\n",
    "print(top_10_auto[['Company', 'Model', 'Annual Income', 'Price']])\n",
    "bottom_10_auto = df_clean.sort_values(by='Price', ascending=False).tail(10)\n",
    "print(\"\\nLe 10 auto con il prezzo più basso:\")\n",
    "print(bottom_10_auto[['Company', 'Model', 'Annual Income', 'Price']])"
   ]
  },
  {
   "cell_type": "markdown",
   "id": "a8d72513",
   "metadata": {},
   "source": [
    "#A seguito dei dati ottenuti dalle esplorazioni e al confronto con gli altri membri del team, si è deciso di eliminare gli outlier evidenziati dalla ricerca sui prezzi delle auto che ha mostarto 6 dati anomali."
   ]
  }
 ],
 "metadata": {
  "kernelspec": {
   "display_name": ".venv",
   "language": "python",
   "name": "python3"
  },
  "language_info": {
   "codemirror_mode": {
    "name": "ipython",
    "version": 3
   },
   "file_extension": ".py",
   "mimetype": "text/x-python",
   "name": "python",
   "nbconvert_exporter": "python",
   "pygments_lexer": "ipython3",
   "version": "3.13.5"
  }
 },
 "nbformat": 4,
 "nbformat_minor": 5
}
