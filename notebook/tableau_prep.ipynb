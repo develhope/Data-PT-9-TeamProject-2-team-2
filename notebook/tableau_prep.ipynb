{
 "cells": [
  {
   "cell_type": "markdown",
   "id": "d70376a3",
   "metadata": {},
   "source": [
    "## PARAMS & overview\n",
    "Ho centralizzato i path e definito gli output principali per preparare i file destinati a Tableau.\n",
    "- Uso questo notebook per: caricare il file cleaned, applicare la rimozione outlier sul prezzo (IQR), creare il file riga-per-riga per la mappa e l'aggregato per dealer_region.\n",
    "- Modifica i path soltanto in questa cella se lavori su un altro computer."
   ]
  },
  {
   "cell_type": "code",
   "execution_count": 9,
   "id": "f633e5af",
   "metadata": {},
   "outputs": [
    {
     "name": "stdout",
     "output_type": "stream",
     "text": [
      "ROOT: /Users/serenatempesta/Documents/Progetti/Data_Analysis/progetto_finale\n",
      "CLEANED_PATH exists? True\n",
      "PROCESSED_DIR: /Users/serenatempesta/Documents/Progetti/Data_Analysis/progetto_finale/data/processed\n",
      "MAPPINGS_DIR: /Users/serenatempesta/Documents/Progetti/Data_Analysis/progetto_finale/notebook/mappings\n"
     ]
    }
   ],
   "source": [
    "# PARAMS: definisco qui i path canonici (modificare solo se necessario)\n",
    "import os\n",
    "import pandas as pd\n",
    "import numpy as np\n",
    "\n",
    "# nota: assumo che il notebook sia in project_root/notebook/\n",
    "ROOT = os.path.abspath(os.path.join(os.getcwd(), \"..\"))  # se il notebook è altrove, aggiusta qui\n",
    "RAW_DIR = os.path.join(ROOT, \"data\", \"raw\")\n",
    "PROCESSED_DIR = os.path.join(ROOT, \"data\", \"processed\")\n",
    "MAPPINGS_DIR = os.path.join(ROOT, \"notebook\", \"mappings\")\n",
    "\n",
    "# file principali: uso il cleaned canonical fornito da Matteo (o presente in data/processed)\n",
    "CLEANED_PATH = os.path.join(PROCESSED_DIR, \"database_cleaned.csv\")\n",
    "OUT_AGG_PATH = os.path.join(PROCESSED_DIR, \"agg_by_dealer_region_for_tableau.csv\")\n",
    "OUT_CITY_PATH = os.path.join(PROCESSED_DIR, \"database_for_tableau_city_state.csv\")\n",
    "\n",
    "# controllo rapido — se il file cleaned non esiste prendo nota per ripristino\n",
    "print(\"ROOT:\", ROOT)\n",
    "print(\"CLEANED_PATH exists?\", os.path.exists(CLEANED_PATH))\n",
    "print(\"PROCESSED_DIR:\", PROCESSED_DIR)\n",
    "print(\"MAPPINGS_DIR:\", MAPPINGS_DIR)"
   ]
  },
  {
   "cell_type": "code",
   "execution_count": 10,
   "id": "4b446a08",
   "metadata": {},
   "outputs": [
    {
     "name": "stdout",
     "output_type": "stream",
     "text": [
      "Caricato df shape: (23906, 13)\n",
      "Colonne presenti: ['Date', 'Customer Name', 'Gender', 'Annual Income', 'Dealer_Name', 'Company', 'Model', 'Engine', 'Transmission', 'Color', 'Price ($)', 'Body Style', 'Dealer_Region']\n"
     ]
    },
    {
     "data": {
      "text/html": [
       "<div>\n",
       "<style scoped>\n",
       "    .dataframe tbody tr th:only-of-type {\n",
       "        vertical-align: middle;\n",
       "    }\n",
       "\n",
       "    .dataframe tbody tr th {\n",
       "        vertical-align: top;\n",
       "    }\n",
       "\n",
       "    .dataframe thead th {\n",
       "        text-align: right;\n",
       "    }\n",
       "</style>\n",
       "<table border=\"1\" class=\"dataframe\">\n",
       "  <thead>\n",
       "    <tr style=\"text-align: right;\">\n",
       "      <th></th>\n",
       "      <th>Date</th>\n",
       "      <th>Customer Name</th>\n",
       "      <th>Gender</th>\n",
       "      <th>Annual Income</th>\n",
       "      <th>Dealer_Name</th>\n",
       "      <th>Company</th>\n",
       "      <th>Model</th>\n",
       "      <th>Engine</th>\n",
       "      <th>Transmission</th>\n",
       "      <th>Color</th>\n",
       "      <th>Price ($)</th>\n",
       "      <th>Body Style</th>\n",
       "      <th>Dealer_Region</th>\n",
       "    </tr>\n",
       "  </thead>\n",
       "  <tbody>\n",
       "    <tr>\n",
       "      <th>0</th>\n",
       "      <td>2022-01-02</td>\n",
       "      <td>Geraldine</td>\n",
       "      <td>Male</td>\n",
       "      <td>13500</td>\n",
       "      <td>Buddy Storbeck's Diesel Service Inc</td>\n",
       "      <td>Ford</td>\n",
       "      <td>Expedition</td>\n",
       "      <td>DoubleÂ Overhead Camshaft</td>\n",
       "      <td>Auto</td>\n",
       "      <td>Black</td>\n",
       "      <td>26000</td>\n",
       "      <td>SUV</td>\n",
       "      <td>Middletown</td>\n",
       "    </tr>\n",
       "    <tr>\n",
       "      <th>1</th>\n",
       "      <td>2022-01-02</td>\n",
       "      <td>Gia</td>\n",
       "      <td>Male</td>\n",
       "      <td>1480000</td>\n",
       "      <td>C &amp; M Motors Inc</td>\n",
       "      <td>Dodge</td>\n",
       "      <td>Durango</td>\n",
       "      <td>DoubleÂ Overhead Camshaft</td>\n",
       "      <td>Auto</td>\n",
       "      <td>Black</td>\n",
       "      <td>19000</td>\n",
       "      <td>SUV</td>\n",
       "      <td>Aurora</td>\n",
       "    </tr>\n",
       "    <tr>\n",
       "      <th>2</th>\n",
       "      <td>2022-01-02</td>\n",
       "      <td>Gianna</td>\n",
       "      <td>Male</td>\n",
       "      <td>1035000</td>\n",
       "      <td>Capitol KIA</td>\n",
       "      <td>Cadillac</td>\n",
       "      <td>Eldorado</td>\n",
       "      <td>Overhead Camshaft</td>\n",
       "      <td>Manual</td>\n",
       "      <td>Red</td>\n",
       "      <td>31500</td>\n",
       "      <td>Passenger</td>\n",
       "      <td>Greenville</td>\n",
       "    </tr>\n",
       "  </tbody>\n",
       "</table>\n",
       "</div>"
      ],
      "text/plain": [
       "        Date Customer Name Gender  Annual Income  \\\n",
       "0 2022-01-02     Geraldine   Male          13500   \n",
       "1 2022-01-02           Gia   Male        1480000   \n",
       "2 2022-01-02        Gianna   Male        1035000   \n",
       "\n",
       "                           Dealer_Name   Company       Model  \\\n",
       "0  Buddy Storbeck's Diesel Service Inc      Ford  Expedition   \n",
       "1                     C & M Motors Inc     Dodge     Durango   \n",
       "2                          Capitol KIA  Cadillac    Eldorado   \n",
       "\n",
       "                      Engine Transmission  Color  Price ($) Body Style  \\\n",
       "0  DoubleÂ Overhead Camshaft         Auto  Black      26000        SUV   \n",
       "1  DoubleÂ Overhead Camshaft         Auto  Black      19000        SUV   \n",
       "2          Overhead Camshaft       Manual    Red      31500  Passenger   \n",
       "\n",
       "  Dealer_Region  \n",
       "0    Middletown  \n",
       "1        Aurora  \n",
       "2    Greenville  "
      ]
     },
     "metadata": {},
     "output_type": "display_data"
    }
   ],
   "source": [
    "# Carico il cleaned file in modo robusto (se esiste la colonna Date la converto)\n",
    "# Se CLEANED_PATH non è presente, intervenire prima di eseguire le celle successive.\n",
    "cols0 = pd.read_csv(CLEANED_PATH, nrows=0).columns.tolist()\n",
    "parse_arg = ['Date'] if 'Date' in cols0 else None\n",
    "\n",
    "df = pd.read_csv(CLEANED_PATH, parse_dates=parse_arg, low_memory=False)\n",
    "print(\"Caricato df shape:\", df.shape)\n",
    "print(\"Colonne presenti:\", df.columns.tolist())\n",
    "display(df.head(3))"
   ]
  },
  {
   "cell_type": "code",
   "execution_count": 11,
   "id": "db87d129",
   "metadata": {},
   "outputs": [
    {
     "ename": "SyntaxError",
     "evalue": "invalid character '—' (U+2014) (3785279869.py, line 5)",
     "output_type": "error",
     "traceback": [
      "\u001b[0;36m  Cell \u001b[0;32mIn[11], line 5\u001b[0;36m\u001b[0m\n\u001b[0;31m    - `df` = originale (con outlier) — per audit;\u001b[0m\n\u001b[0m                                     ^\u001b[0m\n\u001b[0;31mSyntaxError\u001b[0m\u001b[0;31m:\u001b[0m invalid character '—' (U+2014)\n"
     ]
    }
   ],
   "source": [
    "## Pulizia minima e regola outlier\n",
    "- Trasformo Price e Annual Income in numerici (rimuovo simboli).\n",
    "- Applico outlier detection **solo su Price** usando la regola IQR (1.5 * IQR).\n",
    "- Tengo due dataframe:\n",
    "  - `df` = originale (con outlier) — per audit;\n",
    "  - `df_no_outliers` = senza outlier sul prezzo — usato per salvare i file per Tableau."
   ]
  },
  {
   "cell_type": "code",
   "execution_count": null,
   "id": "43571af6",
   "metadata": {},
   "outputs": [],
   "source": [
    "# Pulisco le colonne money e le converto in numerico (mantengo la colonna originale per controllo)\n",
    "def to_numeric_money(series):\n",
    "    # rimuovo simboli non numerici, gestisco valori vuoti\n",
    "    s = series.astype(str).str.replace(r\"[^\\d\\.\\-]\", \"\", regex=True)\n",
    "    s = s.replace(\"\", np.nan)\n",
    "    return pd.to_numeric(s, errors='coerce')\n",
    "\n",
    "# riconosco i nomi tipici delle colonne (tolleranza a varianti)\n",
    "price_cols = [c for c in df.columns if c.lower().strip() in (\"price ($)\",\"price\",\"price_$\",\"price($)\",\"price ($)\")]\n",
    "income_cols = [c for c in df.columns if c.lower().strip() in (\"annual income\",\"annual_income\",\"income\",\"annualincome\")]\n",
    "\n",
    "if not price_cols:\n",
    "    raise RuntimeError(\"Non trovo la colonna Price: controlla i nomi delle colonne nel dataset.\")\n",
    "PRICE_COL = price_cols[0]\n",
    "INCOME_COL = income_cols[0] if income_cols else None\n",
    "\n",
    "# creo colonne pulite\n",
    "# Ho chiamato le colonne _price_clean e _income_clean per non sovrascrivere i dati originali\n",
    "df[\"_price_clean\"] = to_numeric_money(df[PRICE_COL])\n",
    "if INCOME_COL:\n",
    "    df[\"_income_clean\"] = to_numeric_money(df[INCOME_COL])\n",
    "else:\n",
    "    df[\"_income_clean\"] = np.nan\n",
    "\n",
    "print(\"Pulizia price: valori nulli ->\", df[\"_price_clean\"].isna().sum(), \n",
    "      \"| min/max ->\", df[\"_price_clean\"].min(), df[\"_price_clean\"].max())\n",
    "\n",
    "# Outlier detection SOLO su price (IQR)\n",
    "q1 = df[\"_price_clean\"].quantile(0.25)\n",
    "q3 = df[\"_price_clean\"].quantile(0.75)\n",
    "iqr = q3 - q1\n",
    "lower = q1 - 1.5 * iqr\n",
    "upper = q3 + 1.5 * iqr\n",
    "\n",
    "# segnalo gli outlier in una colonna booleana; li escludo solo per i file di visualizzazione\n",
    "df[\"_price_outlier\"] = (df[\"_price_clean\"] < lower) | (df[\"_price_clean\"] > upper)\n",
    "n_outliers = int(df[\"_price_outlier\"].sum())\n",
    "print(f\"Ho identificato {n_outliers} outlier sul prezzo (IQR).\")\n",
    "\n",
    "# creo df_no_outliers usato per le esportazioni verso Tableau\n",
    "df_no_outliers = df[~df[\"_price_outlier\"]].copy()\n",
    "print(\"Shape df_no_outliers:\", df_no_outliers.shape)"
   ]
  },
  {
   "cell_type": "code",
   "execution_count": null,
   "id": "1fd49b58",
   "metadata": {},
   "outputs": [],
   "source": []
  }
 ],
 "metadata": {
  "kernelspec": {
   "display_name": "base",
   "language": "python",
   "name": "python3"
  },
  "language_info": {
   "codemirror_mode": {
    "name": "ipython",
    "version": 3
   },
   "file_extension": ".py",
   "mimetype": "text/x-python",
   "name": "python",
   "nbconvert_exporter": "python",
   "pygments_lexer": "ipython3",
   "version": "3.13.5"
  }
 },
 "nbformat": 4,
 "nbformat_minor": 5
}
