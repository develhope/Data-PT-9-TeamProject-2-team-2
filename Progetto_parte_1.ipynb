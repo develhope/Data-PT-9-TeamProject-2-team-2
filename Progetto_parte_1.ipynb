{
 "cells": [
  {
   "cell_type": "markdown",
   "id": "d9582f7e",
   "metadata": {
    "vscode": {
     "languageId": "plaintext"
    }
   },
   "source": [
    "Inizio Del Progetto:\n",
    " Importazione delle librerie necessarie"
   ]
  },
  {
   "cell_type": "code",
   "execution_count": null,
   "id": "c484da9e",
   "metadata": {},
   "outputs": [],
   "source": [
    "import os\n",
    "import pandas as pd\n",
    "import numpy as np\n",
    "import matplotlib.pyplot as plt\n",
    "import seaborn as sns"
   ]
  },
  {
   "cell_type": "markdown",
   "id": "ec49ebd3",
   "metadata": {},
   "source": [
    " Visualizzazione preliminare del dataset"
   ]
  },
  {
   "cell_type": "code",
   "execution_count": null,
   "id": "2b69c039",
   "metadata": {},
   "outputs": [],
   "source": [
    "df_cars = pd.read_csv('cars.csv')\n",
    "print(df_cars.head())\n",
    "print(df_cars.tail())\n",
    "print(df_cars.info())\n",
    "print(df_cars.columns)\n",
    "print(df_cars.isnull().sum())"
   ]
  },
  {
   "cell_type": "markdown",
   "id": "326ec399",
   "metadata": {},
   "source": [
    "Inizio data cleaning"
   ]
  },
  {
   "cell_type": "code",
   "execution_count": null,
   "id": "b10be0b6",
   "metadata": {},
   "outputs": [],
   "source": [
    "df_clean = df_cars.drop(columns=['Phone', 'Car_id', 'Dealer_No '])\n",
    "df_clean = df_clean.fillna('John Doe')\n",
    "df_clean = df_clean.rename(columns={'Price ($)': 'Price',}, inplace=True)\n",
    "\n",
    "file_path = os.path.join(os.getcwd(), \"database_cleaned.csv\")\n",
    "df_clean.to_csv(file_path, index=False)\n",
    "print(\"✔️ Distanze salvate in 'database_cleaned.csv'\")"
   ]
  }
 ],
 "metadata": {
  "language_info": {
   "name": "python"
  }
 },
 "nbformat": 4,
 "nbformat_minor": 5
}
