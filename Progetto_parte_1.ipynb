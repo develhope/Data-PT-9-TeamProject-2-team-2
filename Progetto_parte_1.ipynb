{
 "cells": [
  {
   "cell_type": "markdown",
   "id": "d9582f7e",
   "metadata": {
    "vscode": {
     "languageId": "plaintext"
    }
   },
   "source": [
    "# INIZIO PROGETTO"
   ]
  },
  {
   "cell_type": "markdown",
   "id": "9a584c5b",
   "metadata": {},
   "source": [
    "# Download dataset from https://www.kaggle.com/datasets/missionjee/car-sales-report"
   ]
  },
  {
   "cell_type": "markdown",
   "id": "29dcb22b",
   "metadata": {},
   "source": [
    "## Import Libraries "
   ]
  },
  {
   "cell_type": "code",
   "execution_count": 2,
   "id": "c484da9e",
   "metadata": {},
   "outputs": [],
   "source": [
    "import os\n",
    "import pandas as pd\n",
    "import numpy as np\n",
    "import matplotlib.pyplot as plt\n",
    "import seaborn as sns"
   ]
  },
  {
   "cell_type": "markdown",
   "id": "ec49ebd3",
   "metadata": {},
   "source": [
    "## Preliminary dataset visualization"
   ]
  },
  {
   "cell_type": "code",
   "execution_count": 3,
   "id": "2b69c039",
   "metadata": {},
   "outputs": [
    {
     "name": "stdout",
     "output_type": "stream",
     "text": [
      "         Car_id      Date Customer Name Gender  Annual Income  \\\n",
      "0  C_CND_000001  1/2/2022     Geraldine   Male          13500   \n",
      "1  C_CND_000002  1/2/2022           Gia   Male        1480000   \n",
      "2  C_CND_000003  1/2/2022        Gianna   Male        1035000   \n",
      "3  C_CND_000004  1/2/2022       Giselle   Male          13500   \n",
      "4  C_CND_000005  1/2/2022         Grace   Male        1465000   \n",
      "\n",
      "                           Dealer_Name   Company       Model  \\\n",
      "0  Buddy Storbeck's Diesel Service Inc      Ford  Expedition   \n",
      "1                     C & M Motors Inc     Dodge     Durango   \n",
      "2                          Capitol KIA  Cadillac    Eldorado   \n",
      "3               Chrysler of Tri-Cities    Toyota      Celica   \n",
      "4                    Chrysler Plymouth     Acura          TL   \n",
      "\n",
      "                      Engine Transmission       Color  Price ($)  Dealer_No   \\\n",
      "0  DoubleÂ Overhead Camshaft         Auto       Black      26000  06457-3834   \n",
      "1  DoubleÂ Overhead Camshaft         Auto       Black      19000  60504-7114   \n",
      "2          Overhead Camshaft       Manual         Red      31500  38701-8047   \n",
      "3          Overhead Camshaft       Manual  Pale White      14000  99301-3882   \n",
      "4  DoubleÂ Overhead Camshaft         Auto         Red      24500  53546-9427   \n",
      "\n",
      "  Body Style    Phone Dealer_Region  \n",
      "0        SUV  8264678    Middletown  \n",
      "1        SUV  6848189        Aurora  \n",
      "2  Passenger  7298798    Greenville  \n",
      "3        SUV  6257557         Pasco  \n",
      "4  Hatchback  7081483    Janesville  \n",
      "             Car_id        Date Customer Name  Gender  Annual Income  \\\n",
      "23901  C_CND_023902  12/31/2023        Martin    Male          13500   \n",
      "23902  C_CND_023903  12/31/2023         Jimmy  Female         900000   \n",
      "23903  C_CND_023904  12/31/2023          Emma    Male         705000   \n",
      "23904  C_CND_023905  12/31/2023      Victoire    Male          13500   \n",
      "23905  C_CND_023906  12/31/2023       Donovan    Male        1225000   \n",
      "\n",
      "                          Dealer_Name    Company    Model  \\\n",
      "23901                C & M Motors Inc   Plymouth  Voyager   \n",
      "23902  Ryder Truck Rental and Leasing  Chevrolet    Prizm   \n",
      "23903          Chrysler of Tri-Cities        BMW     328i   \n",
      "23904               Chrysler Plymouth  Chevrolet    Metro   \n",
      "23905                 Pars Auto Sales      Lexus    ES300   \n",
      "\n",
      "                          Engine Transmission       Color  Price ($)  \\\n",
      "23901          Overhead Camshaft       Manual         Red      12000   \n",
      "23902  DoubleÂ Overhead Camshaft         Auto       Black      16000   \n",
      "23903          Overhead Camshaft       Manual         Red      21000   \n",
      "23904  DoubleÂ Overhead Camshaft         Auto       Black      31000   \n",
      "23905  DoubleÂ Overhead Camshaft         Auto  Pale White      27500   \n",
      "\n",
      "       Dealer_No  Body Style    Phone Dealer_Region  \n",
      "23901  60504-7114  Passenger  8583598         Pasco  \n",
      "23902  06457-3834    Hardtop  7914229    Middletown  \n",
      "23903  99301-3882      Sedan  7659127    Scottsdale  \n",
      "23904  53546-9427  Passenger  6030764        Austin  \n",
      "23905  38701-8047    Hardtop  7020564    Middletown  \n",
      "<class 'pandas.core.frame.DataFrame'>\n",
      "RangeIndex: 23906 entries, 0 to 23905\n",
      "Data columns (total 16 columns):\n",
      " #   Column         Non-Null Count  Dtype \n",
      "---  ------         --------------  ----- \n",
      " 0   Car_id         23906 non-null  object\n",
      " 1   Date           23906 non-null  object\n",
      " 2   Customer Name  23905 non-null  object\n",
      " 3   Gender         23906 non-null  object\n",
      " 4   Annual Income  23906 non-null  int64 \n",
      " 5   Dealer_Name    23906 non-null  object\n",
      " 6   Company        23906 non-null  object\n",
      " 7   Model          23906 non-null  object\n",
      " 8   Engine         23906 non-null  object\n",
      " 9   Transmission   23906 non-null  object\n",
      " 10  Color          23906 non-null  object\n",
      " 11  Price ($)      23906 non-null  int64 \n",
      " 12  Dealer_No      23906 non-null  object\n",
      " 13  Body Style     23906 non-null  object\n",
      " 14  Phone          23906 non-null  int64 \n",
      " 15  Dealer_Region  23906 non-null  object\n",
      "dtypes: int64(3), object(13)\n",
      "memory usage: 2.9+ MB\n",
      "None\n",
      "Index(['Car_id', 'Date', 'Customer Name', 'Gender', 'Annual Income',\n",
      "       'Dealer_Name', 'Company', 'Model', 'Engine', 'Transmission', 'Color',\n",
      "       'Price ($)', 'Dealer_No ', 'Body Style', 'Phone', 'Dealer_Region'],\n",
      "      dtype='object')\n",
      "Car_id           0\n",
      "Date             0\n",
      "Customer Name    1\n",
      "Gender           0\n",
      "Annual Income    0\n",
      "Dealer_Name      0\n",
      "Company          0\n",
      "Model            0\n",
      "Engine           0\n",
      "Transmission     0\n",
      "Color            0\n",
      "Price ($)        0\n",
      "Dealer_No        0\n",
      "Body Style       0\n",
      "Phone            0\n",
      "Dealer_Region    0\n",
      "dtype: int64\n"
     ]
    }
   ],
   "source": [
    "df_cars = pd.read_csv('cars.csv')\n",
    "print(df_cars.head())\n",
    "print(df_cars.tail())\n",
    "print(df_cars.info())\n",
    "print(df_cars.columns)\n",
    "print(df_cars.isnull().sum())"
   ]
  },
  {
   "cell_type": "markdown",
   "id": "326ec399",
   "metadata": {},
   "source": [
    "## Start Data cleaning"
   ]
  },
  {
   "cell_type": "code",
   "execution_count": null,
   "id": "b10be0b6",
   "metadata": {},
   "outputs": [],
   "source": [
    "df_clean = df_cars.drop(columns=['Phone', 'Car_id', 'Dealer_No '])\n",
    "df_clean = df_clean.fillna('John Doe')\n",
    "df_clean = df_clean.rename(columns={'Price ($)': 'Price',}, inplace=True)\n",
    "\n",
    "file_path = os.path.join(os.getcwd(), \"database_cleaned.csv\")\n",
    "df_clean.to_csv(file_path, index=False)\n",
    "print(\"✔️ Distanze salvate in 'database_cleaned.csv'\")"
   ]
  }
 ],
 "metadata": {
  "kernelspec": {
   "display_name": "venv",
   "language": "python",
   "name": "python3"
  },
  "language_info": {
   "codemirror_mode": {
    "name": "ipython",
    "version": 3
   },
   "file_extension": ".py",
   "mimetype": "text/x-python",
   "name": "python",
   "nbconvert_exporter": "python",
   "pygments_lexer": "ipython3",
   "version": "3.12.4"
  }
 },
 "nbformat": 4,
 "nbformat_minor": 5
}
