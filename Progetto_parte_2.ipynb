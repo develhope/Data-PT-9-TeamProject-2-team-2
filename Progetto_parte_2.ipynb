{
 "cells": [
  {
   "cell_type": "markdown",
   "id": "b02fc70f",
   "metadata": {},
   "source": [
    "Ricerca e controllo per possibili outlier"
   ]
  },
  {
   "cell_type": "markdown",
   "id": "631e4634",
   "metadata": {},
   "source": [
    "Import delle librerie necessarie\n"
   ]
  },
  {
   "cell_type": "code",
   "execution_count": 4,
   "id": "375abb41",
   "metadata": {},
   "outputs": [],
   "source": [
    "import os\n",
    "import pandas as pd\n",
    "import numpy as np\n",
    "import matplotlib.pyplot as plt\n",
    "import seaborn as sns"
   ]
  },
  {
   "cell_type": "markdown",
   "id": "000d43d0",
   "metadata": {},
   "source": [
    "Inizio della parte di ricerca"
   ]
  },
  {
   "cell_type": "code",
   "execution_count": 34,
   "id": "2fa273da",
   "metadata": {},
   "outputs": [
    {
     "name": "stdout",
     "output_type": "stream",
     "text": [
      "Media: 28090.247845729107\n",
      "Mediana: 23000.0\n",
      "Massimo: 85800\n",
      "Minimo: 1200\n"
     ]
    }
   ],
   "source": [
    "df_clean = pd.read_csv(r'c:\\Users\\ilbom\\Python_Corso\\Data-PT-9-TeamProject-2-team-2\\data\\database_cleaned.csv')\n",
    "df_clean.max()['Price']\n",
    "df_clean.min()['Price']\n",
    "df_clean['Price'].mean()\n",
    "df_clean['Price'].median()\n",
    "print(\"Media:\", df_clean['Price'].mean())\n",
    "print(\"Mediana:\", df_clean['Price'].median())\n",
    "print(\"Massimo:\",df_clean.max()['Price'])\n",
    "print(\"Minimo:\",df_clean.min()['Price'])\n"
   ]
  },
  {
   "cell_type": "code",
   "execution_count": 40,
   "id": "11f7fd4c",
   "metadata": {},
   "outputs": [
    {
     "name": "stdout",
     "output_type": "stream",
     "text": [
      "\n",
      "Numero di outlier con prezzo > 70000: 532\n",
      "Numero di outlier con prezzo < 10000: 294\n",
      "\n",
      "Dimensione del dataset originale: 23906\n",
      "Dimensione del dataset senza outlier: 23080\n"
     ]
    }
   ],
   "source": [
    "outlier_alti = df_clean[df_clean['Price'] > 70000]\n",
    "outlier_bassi = df_clean[df_clean['Price'] < 10000]\n",
    "num_outlier_alti = len(outlier_alti)\n",
    "num_outlier_bassi = len(outlier_bassi)\n",
    "print(f\"\\nNumero di outlier con prezzo > 70000: {num_outlier_alti}\")\n",
    "print(f\"Numero di outlier con prezzo < 10000: {num_outlier_bassi}\")\n",
    "df_no_outliers = df_clean[(df_clean['Price'] <= 70000) & (df_clean['Price'] >= 10000)]\n",
    "print(f\"\\nDimensione del dataset originale: {len(df_clean)}\")\n",
    "print(f\"Dimensione del dataset senza outlier: {len(df_no_outliers)}\")"
   ]
  }
 ],
 "metadata": {
  "kernelspec": {
   "display_name": ".venv",
   "language": "python",
   "name": "python3"
  },
  "language_info": {
   "codemirror_mode": {
    "name": "ipython",
    "version": 3
   },
   "file_extension": ".py",
   "mimetype": "text/x-python",
   "name": "python",
   "nbconvert_exporter": "python",
   "pygments_lexer": "ipython3",
   "version": "3.13.5"
  }
 },
 "nbformat": 4,
 "nbformat_minor": 5
}
