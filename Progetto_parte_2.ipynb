{
 "cells": [
  {
   "cell_type": "markdown",
   "id": "b02fc70f",
   "metadata": {},
   "source": [
    "Ricerca e controllo per possibili outlier"
   ]
  },
  {
   "cell_type": "markdown",
   "id": "631e4634",
   "metadata": {},
   "source": [
    "Import delle librerie necessarie\n"
   ]
  },
  {
   "cell_type": "code",
   "execution_count": 2,
   "id": "375abb41",
   "metadata": {},
   "outputs": [],
   "source": [
    "import os\n",
    "import pandas as pd\n",
    "import numpy as np\n",
    "import matplotlib.pyplot as plt\n",
    "import seaborn as sns"
   ]
  },
  {
   "cell_type": "markdown",
   "id": "000d43d0",
   "metadata": {},
   "source": [
    "Inizio della parte di ricerca"
   ]
  },
  {
   "cell_type": "code",
   "execution_count": 3,
   "id": "2fa273da",
   "metadata": {},
   "outputs": [
    {
     "name": "stdout",
     "output_type": "stream",
     "text": [
      "Media: 28090.247845729107\n",
      "Mediana: 23000.0\n",
      "Massimo: 85800\n",
      "Minimo: 1200\n",
      "       Price\n",
      "7068   85800\n",
      "17129  85601\n",
      "358    85600\n",
      "13605  85600\n",
      "9228   85500\n",
      "11330  85500\n",
      "17947  85400\n",
      "2661   85301\n",
      "11428  85300\n",
      "6530   85250\n",
      "       Price\n",
      "13946   1200\n",
      "13996   1450\n",
      "14010   1700\n",
      "14020   2200\n",
      "13949   4200\n",
      "14185   4300\n",
      "12      9000\n",
      "260     9000\n",
      "290     9000\n",
      "413     9000\n"
     ]
    }
   ],
   "source": [
    "df_clean = pd.read_csv(r'c:\\Users\\ilbom\\Python_Corso\\Data-PT-9-TeamProject-2-team-2\\data\\database_cleaned.csv')\n",
    "df_clean.max()['Price']\n",
    "df_clean.min()['Price']\n",
    "df_clean['Price'].mean()\n",
    "df_clean['Price'].median()\n",
    "print(\"Media:\", df_clean['Price'].mean())\n",
    "print(\"Mediana:\", df_clean['Price'].median())\n",
    "print(\"Massimo:\",df_clean.max()['Price'])\n",
    "print(\"Minimo:\",df_clean.min()['Price'])\n",
    "top_10_prezzi = df_clean.nlargest(10, 'Price')\n",
    "print(top_10_prezzi[['Price']])\n",
    "bottom_10_prezzi = df_clean.nsmallest(10, 'Price')\n",
    "print(bottom_10_prezzi[['Price']])\n"
   ]
  },
  {
   "cell_type": "code",
   "execution_count": 4,
   "id": "11f7fd4c",
   "metadata": {},
   "outputs": [
    {
     "name": "stdout",
     "output_type": "stream",
     "text": [
      "\n",
      "Numero di outlier con prezzo > 80000: 220\n",
      "Numero di outlier con prezzo < 9000: 6\n",
      "\n",
      "Dimensione del dataset originale: 23906\n",
      "Dimensione del dataset senza outlier: 23680\n"
     ]
    }
   ],
   "source": [
    "outlier_alti = df_clean[df_clean['Price'] > 80000]\n",
    "outlier_bassi = df_clean[df_clean['Price'] < 9000]\n",
    "num_outlier_alti = len(outlier_alti)\n",
    "num_outlier_bassi = len(outlier_bassi)\n",
    "print(f\"\\nNumero di outlier con prezzo > 80000: {num_outlier_alti}\")\n",
    "print(f\"Numero di outlier con prezzo < 9000: {num_outlier_bassi}\")\n",
    "df_no_outliers = df_clean[(df_clean['Price'] <= 80000) & (df_clean['Price'] >= 9000)]\n",
    "print(f\"\\nDimensione del dataset originale: {len(df_clean)}\")\n",
    "print(f\"Dimensione del dataset senza outlier: {len(df_no_outliers)}\")"
   ]
  },
  {
   "cell_type": "code",
   "execution_count": 5,
   "id": "bc86bb92",
   "metadata": {},
   "outputs": [
    {
     "name": "stdout",
     "output_type": "stream",
     "text": [
      "Media: 830840.2851167071\n",
      "Mediana: 735000.0\n",
      "Massimo: 11200000\n",
      "Minimo: 10080\n",
      "       Annual Income\n",
      "14026       11200000\n",
      "15675        8000000\n",
      "6150         7650000\n",
      "9996         6800000\n",
      "22407        6600000\n",
      "11607        6500000\n",
      "7657         6460000\n",
      "8817         6400000\n",
      "14183        6400000\n",
      "4755         6240000\n",
      "       Annual Income\n",
      "23451          10080\n",
      "0              13500\n",
      "3              13500\n",
      "7              13500\n",
      "9              13500\n",
      "10             13500\n",
      "11             13500\n",
      "13             13500\n",
      "20             13500\n",
      "28             13500\n"
     ]
    }
   ],
   "source": [
    "df_clean.max()['Annual Income']\n",
    "df_clean.min()['Annual Income']\n",
    "df_clean['Annual Income'].mean()\n",
    "df_clean['Annual Income'].median()\n",
    "print(\"Media:\", df_clean['Annual Income'].mean())\n",
    "print(\"Mediana:\", df_clean['Annual Income'].median())\n",
    "print(\"Massimo:\",df_clean.max()['Annual Income'])\n",
    "print(\"Minimo:\",df_clean.min()['Annual Income'])\n",
    "top_10_income = df_clean.nlargest(10, 'Annual Income')\n",
    "print(top_10_income[['Annual Income']])\n",
    "bottom_10_income = df_clean.nsmallest(10, 'Annual Income')\n",
    "print(bottom_10_income[['Annual Income']])\n",
    "\n"
   ]
  },
  {
   "cell_type": "code",
   "execution_count": 6,
   "id": "5bd1d245",
   "metadata": {},
   "outputs": [
    {
     "name": "stdout",
     "output_type": "stream",
     "text": [
      "\n",
      "Numero di outlier con salari > 7000000: 3\n",
      "Numero di outlier con salari < 100000: 5276\n",
      "\n",
      "Dimensione del dataset originale: 23906\n",
      "Dimensione del dataset senza outlier: 18627\n"
     ]
    }
   ],
   "source": [
    "outlier_salari_alti = df_clean[df_clean['Annual Income'] > 7000000]\n",
    "outlier_salari_bassi = df_clean[df_clean['Annual Income'] < 100000]\n",
    "num_outlier_salari_alti = len(outlier_salari_alti)\n",
    "num_outlier_salari_bassi = len(outlier_salari_bassi)\n",
    "print(f\"\\nNumero di outlier con salari > 7000000: {num_outlier_salari_alti}\")\n",
    "print(f\"Numero di outlier con salari < 100000: {num_outlier_salari_bassi}\")\n",
    "df_no_outliers = df_clean[(df_clean['Annual Income'] <= 7000000) & (df_clean['Annual Income'] >= 100000)]\n",
    "print(f\"\\nDimensione del dataset originale: {len(df_clean)}\")\n",
    "print(f\"Dimensione del dataset senza outlier: {len(df_no_outliers)}\")"
   ]
  },
  {
   "cell_type": "code",
   "execution_count": 14,
   "id": "72ed88d0",
   "metadata": {},
   "outputs": [
    {
     "name": "stdout",
     "output_type": "stream",
     "text": [
      "\n",
      "Le 10 auto con il reddito annuale più alto:\n",
      "          Company          Model  Annual Income  Price\n",
      "14026  Oldsmobile        Bravada       11200000  26001\n",
      "15675  Mercedes-B        S-Class        8000000  85000\n",
      "6150      Hyundai         Sonata        7650000  21000\n",
      "9996          BMW           323i        6800000  15000\n",
      "22407     Mercury          Sable        6600000  39000\n",
      "11607        Ford        Mustang        6500000  25000\n",
      "7657       Toyota         Celica        6460000  14000\n",
      "8817      Mercury  Grand Marquis        6400000  71000\n",
      "14183      Nissan          Quest        6400000  32001\n",
      "4755     Chrysler       Concorde        6240000  42000\n",
      "\n",
      "Le 10 auto con il reddito annuale più basso:\n",
      "          Company          Model  Annual Income  Price\n",
      "23857    Infiniti            I30          13500  49000\n",
      "23864  Volkswagen            GTI          13500  25000\n",
      "23865      Subaru       Forester          13500  26001\n",
      "23868  Volkswagen         Passat          13500  31000\n",
      "3472        Acura             RL          13500  31000\n",
      "3474        Dodge        Ram Van          13500  60000\n",
      "3485   Mitsubishi  Montero Sport          13500  53000\n",
      "3450    Chevrolet       Cavalier          13500  20001\n",
      "7      Mitsubishi         Galant          13500  42000\n",
      "23451    Infiniti            I30          10080  22801\n"
     ]
    }
   ],
   "source": [
    "top_10_redditi = df_clean.sort_values(by='Annual Income', ascending=False).head(10)\n",
    "print(\"\\nLe 10 auto con il reddito annuale più alto:\")\n",
    "print(top_10_redditi[['Company', 'Model', 'Annual Income', 'Price']])\n",
    "bottom_10_redditi = df_clean.sort_values(by='Annual Income', ascending=False).tail(10)\n",
    "print(\"\\nLe 10 auto con il reddito annuale più basso:\")\n",
    "print(bottom_10_redditi[['Company', 'Model', 'Annual Income', 'Price']])\n"
   ]
  },
  {
   "cell_type": "code",
   "execution_count": 15,
   "id": "3dbc6807",
   "metadata": {},
   "outputs": [
    {
     "name": "stdout",
     "output_type": "stream",
     "text": [
      "\n",
      "Le 10 auto con il prezzo più alto:\n",
      "          Company     Model  Annual Income  Price\n",
      "7068     Cadillac  Eldorado        1388000  85800\n",
      "17129    Cadillac  Eldorado        5046000  85601\n",
      "358        Toyota      RAV4        1326000  85600\n",
      "13605    Cadillac  Eldorado        1036000  85600\n",
      "9228         Audi        A6         497500  85500\n",
      "11330    Cadillac  Eldorado        1185000  85500\n",
      "17947    Cadillac  Eldorado        1414000  85400\n",
      "2661     Cadillac  Eldorado        1483000  85301\n",
      "11428      Toyota      RAV4        1053000  85300\n",
      "6530   Mercedes-B   S-Class         392250  85250\n",
      "\n",
      "Le 10 auto con il prezzo più basso:\n",
      "          Company          Model  Annual Income  Price\n",
      "5818      Mercury       Mystique         830000   9000\n",
      "16125    Plymouth           Neon        1180000   9000\n",
      "10221     Mercury  Grand Marquis        1620000   9000\n",
      "20687  Volkswagen         Passat         850000   9000\n",
      "14185        Ford         Taurus        2200000   4300\n",
      "13949        Ford       Explorer         680000   4200\n",
      "14020  Mercedes-B          CL500          13500   2200\n",
      "14010     Lincoln       Town car          13500   1700\n",
      "13996  Mercedes-B        S-Class        1955000   1450\n",
      "13946        Ford         Taurus          13500   1200\n"
     ]
    }
   ],
   "source": [
    "top_10_auto = df_clean.sort_values(by='Price', ascending=False).head(10)\n",
    "print(\"\\nLe 10 auto con il prezzo più alto:\")\n",
    "print(top_10_auto[['Company', 'Model', 'Annual Income', 'Price']])\n",
    "bottom_10_auto = df_clean.sort_values(by='Price', ascending=False).tail(10)\n",
    "print(\"\\nLe 10 auto con il prezzo più basso:\")\n",
    "print(bottom_10_auto[['Company', 'Model', 'Annual Income', 'Price']])"
   ]
  }
 ],
 "metadata": {
  "kernelspec": {
   "display_name": ".venv",
   "language": "python",
   "name": "python3"
  },
  "language_info": {
   "codemirror_mode": {
    "name": "ipython",
    "version": 3
   },
   "file_extension": ".py",
   "mimetype": "text/x-python",
   "name": "python",
   "nbconvert_exporter": "python",
   "pygments_lexer": "ipython3",
   "version": "3.13.5"
  }
 },
 "nbformat": 4,
 "nbformat_minor": 5
}
